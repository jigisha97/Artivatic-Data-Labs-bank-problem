{
  "nbformat": 4,
  "nbformat_minor": 0,
  "metadata": {
    "colab": {
      "name": "my_loan_try.ipynb",
      "provenance": [],
      "collapsed_sections": []
    },
    "kernelspec": {
      "name": "python3",
      "display_name": "Python 3"
    },
    "language_info": {
      "name": "python"
    }
  },
  "cells": [
    {
      "cell_type": "code",
      "metadata": {
        "colab": {
          "base_uri": "https://localhost:8080/"
        },
        "id": "LsNr__dK35XW",
        "outputId": "44d74deb-36b3-4594-c44b-9fd95ec927fb"
      },
      "source": [
        "from google.colab import drive\n",
        "drive.mount('/content/drive')"
      ],
      "execution_count": 133,
      "outputs": [
        {
          "output_type": "stream",
          "text": [
            "Drive already mounted at /content/drive; to attempt to forcibly remount, call drive.mount(\"/content/drive\", force_remount=True).\n"
          ],
          "name": "stdout"
        }
      ]
    },
    {
      "cell_type": "code",
      "metadata": {
        "id": "-kDywUj75PWl"
      },
      "source": [
        "import seaborn as sns\n",
        "import matplotlib.pyplot as plt"
      ],
      "execution_count": 134,
      "outputs": []
    },
    {
      "cell_type": "code",
      "metadata": {
        "id": "kkZ7Vng-5Sqe"
      },
      "source": [
        "import pandas as pd\n",
        "df = pd.read_csv('/content/drive/MyDrive/ML_Artivatic/train_indessa.csv') "
      ],
      "execution_count": 135,
      "outputs": []
    },
    {
      "cell_type": "code",
      "metadata": {
        "id": "K-dVBa0ilwFC"
      },
      "source": [
        "testdf=pd.read_csv('/content/drive/MyDrive/ML_Artivatic/test_indessa.csv')"
      ],
      "execution_count": 136,
      "outputs": []
    },
    {
      "cell_type": "code",
      "metadata": {
        "colab": {
          "base_uri": "https://localhost:8080/"
        },
        "id": "-AH7xsd1mCDJ",
        "outputId": "fa75415a-5b03-4198-f887-61bf74cc7c0b"
      },
      "source": [
        "testdf.shape"
      ],
      "execution_count": 137,
      "outputs": [
        {
          "output_type": "execute_result",
          "data": {
            "text/plain": [
              "(354951, 44)"
            ]
          },
          "metadata": {
            "tags": []
          },
          "execution_count": 137
        }
      ]
    },
    {
      "cell_type": "code",
      "metadata": {
        "colab": {
          "base_uri": "https://localhost:8080/"
        },
        "id": "TqE5lHocmEDi",
        "outputId": "6ded8490-f880-4e7a-806e-5933786ece25"
      },
      "source": [
        "testdf.isnull().sum()"
      ],
      "execution_count": 138,
      "outputs": [
        {
          "output_type": "execute_result",
          "data": {
            "text/plain": [
              "member_id                           0\n",
              "loan_amnt                           0\n",
              "funded_amnt                         0\n",
              "funded_amnt_inv                     0\n",
              "term                                0\n",
              "batch_enrolled                  45599\n",
              "int_rate                            0\n",
              "grade                               0\n",
              "sub_grade                           0\n",
              "emp_title                       20629\n",
              "emp_length                      17934\n",
              "home_ownership                      0\n",
              "annual_inc                          1\n",
              "verification_status                 0\n",
              "pymnt_plan                          0\n",
              "desc                           304770\n",
              "purpose                             0\n",
              "title                              62\n",
              "zip_code                            0\n",
              "addr_state                          0\n",
              "dti                                 0\n",
              "delinq_2yrs                        13\n",
              "inq_last_6mths                     13\n",
              "mths_since_last_delinq         181758\n",
              "mths_since_last_record         300021\n",
              "open_acc                           13\n",
              "pub_rec                            13\n",
              "revol_bal                           0\n",
              "revol_util                        215\n",
              "total_acc                          13\n",
              "initial_list_status                 0\n",
              "total_rec_int                       0\n",
              "total_rec_late_fee                  0\n",
              "recoveries                          0\n",
              "collection_recovery_fee             0\n",
              "collections_12_mths_ex_med         50\n",
              "mths_since_last_major_derog    266228\n",
              "application_type                    0\n",
              "verification_status_joint      354745\n",
              "last_week_pay                       0\n",
              "acc_now_delinq                     13\n",
              "tot_coll_amt                    28272\n",
              "tot_cur_bal                     28272\n",
              "total_rev_hi_lim                28272\n",
              "dtype: int64"
            ]
          },
          "metadata": {
            "tags": []
          },
          "execution_count": 138
        }
      ]
    },
    {
      "cell_type": "code",
      "metadata": {
        "colab": {
          "base_uri": "https://localhost:8080/"
        },
        "id": "qZrhdpN75USW",
        "outputId": "109b5e89-c486-4d00-f95a-225c7fba50fb"
      },
      "source": [
        "df.shape"
      ],
      "execution_count": 139,
      "outputs": [
        {
          "output_type": "execute_result",
          "data": {
            "text/plain": [
              "(532428, 45)"
            ]
          },
          "metadata": {
            "tags": []
          },
          "execution_count": 139
        }
      ]
    },
    {
      "cell_type": "code",
      "metadata": {
        "id": "puGlg5Op5U_N"
      },
      "source": [
        "corr=df.corr()\n",
        "corr1=testdf.corr()"
      ],
      "execution_count": 140,
      "outputs": []
    },
    {
      "cell_type": "code",
      "metadata": {
        "colab": {
          "base_uri": "https://localhost:8080/",
          "height": 624
        },
        "id": "i3Wxf2wZ5ZRc",
        "outputId": "62a486d2-8304-4047-dcc9-bc1948977d4f"
      },
      "source": [
        "sns.heatmap(corr,annot=True)\n",
        "plt.rcParams[\"figure.figsize\"] =(15,8)"
      ],
      "execution_count": 141,
      "outputs": [
        {
          "output_type": "display_data",
          "data": {
            "image/png": "[encoded data removed]",
            "text/plain": [
              "<Figure size 1080x576 with 2 Axes>"
            ]
          },
          "metadata": {
            "tags": [],
            "needs_background": "light"
          }
        }
      ]
    },
    {
      "cell_type": "code",
      "metadata": {
        "id": "JdcEEth85b3V"
      },
      "source": [
        "def correlation(dataset, threshold):\n",
        "    col_corr = set() # Set of all the names of deleted columns\n",
        "    corr_matrix = dataset.corr()\n",
        "    for i in range(len(corr_matrix.columns)):\n",
        "        for j in range(i):\n",
        "            if (corr_matrix.iloc[i, j] >= threshold) and (corr_matrix.columns[j] not in col_corr):\n",
        "                colname = corr_matrix.columns[i] # getting the name of column\n",
        "                col_corr.add(colname)\n",
        "                if colname in dataset.columns:\n",
        "                    del dataset[colname] # deleting the column from the dataset\n",
        "\n",
        "    print(dataset)"
      ],
      "execution_count": 142,
      "outputs": []
    },
    {
      "cell_type": "code",
      "metadata": {
        "colab": {
          "base_uri": "https://localhost:8080/"
        },
        "id": "jJqpynWq5dv_",
        "outputId": "49be0486-1d78-43bc-94c8-018b791f51ad"
      },
      "source": [
        "correlation(df,0.75)\n",
        "correlation(testdf,0.75)"
      ],
      "execution_count": 143,
      "outputs": [
        {
          "output_type": "stream",
          "text": [
            "        member_id  loan_amnt       term  ... tot_coll_amt  tot_cur_bal loan_status\n",
            "0        58189336      14350  36 months  ...          0.0      28699.0           0\n",
            "1        70011223       4800  36 months  ...          0.0       9974.0           0\n",
            "2        70255675      10000  36 months  ...         65.0      38295.0           0\n",
            "3         1893936      15000  36 months  ...          0.0      55564.0           0\n",
            "4         7652106      16000  36 months  ...          0.0      47159.0           0\n",
            "...           ...        ...        ...  ...          ...          ...         ...\n",
            "532423   31296187      20000  36 months  ...          0.0      83087.0           0\n",
            "532424   29403184      12000  60 months  ...          0.0     227812.0           0\n",
            "532425    7357607      18725  60 months  ...          0.0      26010.0           1\n",
            "532426   23182668      21000  60 months  ...          0.0      29197.0           0\n",
            "532427   46122259      10000  36 months  ...          0.0      47866.0           0\n",
            "\n",
            "[532428 rows x 41 columns]\n",
            "        member_id  loan_amnt  ... tot_coll_amt tot_cur_bal\n",
            "0        11937648      14000  ...          0.0     85230.0\n",
            "1        38983318      16000  ...          0.0    444991.0\n",
            "2        27999917      11050  ...          0.0    105737.0\n",
            "3        61514932      35000  ...          0.0    287022.0\n",
            "4        59622821       6500  ...          0.0    234278.0\n",
            "...           ...        ...  ...          ...         ...\n",
            "354946   19145105      15000  ...          0.0    143920.0\n",
            "354947   46304777      35000  ...          0.0    772713.0\n",
            "354948     903745      14000  ...          NaN         NaN\n",
            "354949   53032475      20000  ...          0.0    291998.0\n",
            "354950     994245       2700  ...          NaN         NaN\n",
            "\n",
            "[354951 rows x 40 columns]\n"
          ],
          "name": "stdout"
        }
      ]
    },
    {
      "cell_type": "code",
      "metadata": {
        "colab": {
          "base_uri": "https://localhost:8080/"
        },
        "id": "pH9M0JfrIETN",
        "outputId": "ac109746-ce07-4274-d64c-baba27cd43ce"
      },
      "source": [
        "df.shape"
      ],
      "execution_count": 144,
      "outputs": [
        {
          "output_type": "execute_result",
          "data": {
            "text/plain": [
              "(532428, 41)"
            ]
          },
          "metadata": {
            "tags": []
          },
          "execution_count": 144
        }
      ]
    },
    {
      "cell_type": "code",
      "metadata": {
        "colab": {
          "base_uri": "https://localhost:8080/",
          "height": 743
        },
        "id": "SrW-DmXm52Nr",
        "outputId": "bedae4ae-0790-4d9e-fa15-fee0530732d2"
      },
      "source": [
        "testdf"
      ],
      "execution_count": 145,
      "outputs": [
        {
          "output_type": "execute_result",
          "data": {
            "text/html": [
              "<div>\n",
              "<style scoped>\n",
              "    .dataframe tbody tr th:only-of-type {\n",
              "        vertical-align: middle;\n",
              "    }\n",
              "\n",
              "    .dataframe tbody tr th {\n",
              "        vertical-align: top;\n",
              "    }\n",
              "\n",
              "    .dataframe thead th {\n",
              "        text-align: right;\n",
              "    }\n",
              "</style>\n",
              "<table border=\"1\" class=\"dataframe\">\n",
              "  <thead>\n",
              "    <tr style=\"text-align: right;\">\n",
              "      <th></th>\n",
              "      <th>member_id</th>\n",
              "      <th>loan_amnt</th>\n",
              "      <th>term</th>\n",
              "      <th>batch_enrolled</th>\n",
              "      <th>int_rate</th>\n",
              "      <th>grade</th>\n",
              "      <th>sub_grade</th>\n",
              "      <th>emp_title</th>\n",
              "      <th>emp_length</th>\n",
              "      <th>home_ownership</th>\n",
              "      <th>annual_inc</th>\n",
              "      <th>verification_status</th>\n",
              "      <th>pymnt_plan</th>\n",
              "      <th>desc</th>\n",
              "      <th>purpose</th>\n",
              "      <th>title</th>\n",
              "      <th>zip_code</th>\n",
              "      <th>addr_state</th>\n",
              "      <th>dti</th>\n",
              "      <th>delinq_2yrs</th>\n",
              "      <th>inq_last_6mths</th>\n",
              "      <th>mths_since_last_delinq</th>\n",
              "      <th>mths_since_last_record</th>\n",
              "      <th>open_acc</th>\n",
              "      <th>pub_rec</th>\n",
              "      <th>revol_bal</th>\n",
              "      <th>revol_util</th>\n",
              "      <th>total_acc</th>\n",
              "      <th>initial_list_status</th>\n",
              "      <th>total_rec_int</th>\n",
              "      <th>total_rec_late_fee</th>\n",
              "      <th>recoveries</th>\n",
              "      <th>collections_12_mths_ex_med</th>\n",
              "      <th>mths_since_last_major_derog</th>\n",
              "      <th>application_type</th>\n",
              "      <th>verification_status_joint</th>\n",
              "      <th>last_week_pay</th>\n",
              "      <th>acc_now_delinq</th>\n",
              "      <th>tot_coll_amt</th>\n",
              "      <th>tot_cur_bal</th>\n",
              "    </tr>\n",
              "  </thead>\n",
              "  <tbody>\n",
              "    <tr>\n",
              "      <th>0</th>\n",
              "      <td>11937648</td>\n",
              "      <td>14000</td>\n",
              "      <td>60 months</td>\n",
              "      <td>BAT4711174</td>\n",
              "      <td>16.24</td>\n",
              "      <td>C</td>\n",
              "      <td>C5</td>\n",
              "      <td>Data Analyst</td>\n",
              "      <td>4 years</td>\n",
              "      <td>RENT</td>\n",
              "      <td>73500.0</td>\n",
              "      <td>Source Verified</td>\n",
              "      <td>n</td>\n",
              "      <td>NaN</td>\n",
              "      <td>credit_card</td>\n",
              "      <td>wrap it up</td>\n",
              "      <td>450xx</td>\n",
              "      <td>OH</td>\n",
              "      <td>28.65</td>\n",
              "      <td>1.0</td>\n",
              "      <td>1.0</td>\n",
              "      <td>20.0</td>\n",
              "      <td>NaN</td>\n",
              "      <td>16.0</td>\n",
              "      <td>0.0</td>\n",
              "      <td>29828</td>\n",
              "      <td>65.3</td>\n",
              "      <td>53.0</td>\n",
              "      <td>f</td>\n",
              "      <td>3915.61</td>\n",
              "      <td>0.0</td>\n",
              "      <td>0.0</td>\n",
              "      <td>0.0</td>\n",
              "      <td>NaN</td>\n",
              "      <td>INDIVIDUAL</td>\n",
              "      <td>NaN</td>\n",
              "      <td>104th week</td>\n",
              "      <td>0.0</td>\n",
              "      <td>0.0</td>\n",
              "      <td>85230.0</td>\n",
              "    </tr>\n",
              "    <tr>\n",
              "      <th>1</th>\n",
              "      <td>38983318</td>\n",
              "      <td>16000</td>\n",
              "      <td>60 months</td>\n",
              "      <td>BAT4318899</td>\n",
              "      <td>9.49</td>\n",
              "      <td>B</td>\n",
              "      <td>B2</td>\n",
              "      <td>Senior Database Administrator</td>\n",
              "      <td>5 years</td>\n",
              "      <td>MORTGAGE</td>\n",
              "      <td>105000.0</td>\n",
              "      <td>Source Verified</td>\n",
              "      <td>n</td>\n",
              "      <td>NaN</td>\n",
              "      <td>major_purchase</td>\n",
              "      <td>Major purchase</td>\n",
              "      <td>275xx</td>\n",
              "      <td>NC</td>\n",
              "      <td>31.19</td>\n",
              "      <td>0.0</td>\n",
              "      <td>0.0</td>\n",
              "      <td>NaN</td>\n",
              "      <td>NaN</td>\n",
              "      <td>8.0</td>\n",
              "      <td>0.0</td>\n",
              "      <td>4161</td>\n",
              "      <td>19.4</td>\n",
              "      <td>63.0</td>\n",
              "      <td>w</td>\n",
              "      <td>1495.06</td>\n",
              "      <td>0.0</td>\n",
              "      <td>0.0</td>\n",
              "      <td>0.0</td>\n",
              "      <td>NaN</td>\n",
              "      <td>INDIVIDUAL</td>\n",
              "      <td>NaN</td>\n",
              "      <td>57th week</td>\n",
              "      <td>0.0</td>\n",
              "      <td>0.0</td>\n",
              "      <td>444991.0</td>\n",
              "    </tr>\n",
              "    <tr>\n",
              "      <th>2</th>\n",
              "      <td>27999917</td>\n",
              "      <td>11050</td>\n",
              "      <td>60 months</td>\n",
              "      <td>BAT446479</td>\n",
              "      <td>15.61</td>\n",
              "      <td>D</td>\n",
              "      <td>D1</td>\n",
              "      <td>Customer service representative</td>\n",
              "      <td>10+ years</td>\n",
              "      <td>RENT</td>\n",
              "      <td>62300.0</td>\n",
              "      <td>Not Verified</td>\n",
              "      <td>n</td>\n",
              "      <td>NaN</td>\n",
              "      <td>debt_consolidation</td>\n",
              "      <td>Debt consolidation</td>\n",
              "      <td>672xx</td>\n",
              "      <td>KS</td>\n",
              "      <td>21.73</td>\n",
              "      <td>1.0</td>\n",
              "      <td>0.0</td>\n",
              "      <td>23.0</td>\n",
              "      <td>115.0</td>\n",
              "      <td>11.0</td>\n",
              "      <td>1.0</td>\n",
              "      <td>12064</td>\n",
              "      <td>74.0</td>\n",
              "      <td>20.0</td>\n",
              "      <td>w</td>\n",
              "      <td>2096.21</td>\n",
              "      <td>0.0</td>\n",
              "      <td>0.0</td>\n",
              "      <td>0.0</td>\n",
              "      <td>26.0</td>\n",
              "      <td>INDIVIDUAL</td>\n",
              "      <td>NaN</td>\n",
              "      <td>70th week</td>\n",
              "      <td>0.0</td>\n",
              "      <td>0.0</td>\n",
              "      <td>105737.0</td>\n",
              "    </tr>\n",
              "    <tr>\n",
              "      <th>3</th>\n",
              "      <td>61514932</td>\n",
              "      <td>35000</td>\n",
              "      <td>60 months</td>\n",
              "      <td>BAT4664105</td>\n",
              "      <td>12.69</td>\n",
              "      <td>C</td>\n",
              "      <td>C2</td>\n",
              "      <td>ACCT OFFICER</td>\n",
              "      <td>10+ years</td>\n",
              "      <td>OWN</td>\n",
              "      <td>150000.0</td>\n",
              "      <td>Source Verified</td>\n",
              "      <td>n</td>\n",
              "      <td>NaN</td>\n",
              "      <td>debt_consolidation</td>\n",
              "      <td>Debt consolidation</td>\n",
              "      <td>961xx</td>\n",
              "      <td>CA</td>\n",
              "      <td>17.27</td>\n",
              "      <td>0.0</td>\n",
              "      <td>0.0</td>\n",
              "      <td>NaN</td>\n",
              "      <td>NaN</td>\n",
              "      <td>21.0</td>\n",
              "      <td>0.0</td>\n",
              "      <td>32549</td>\n",
              "      <td>45.0</td>\n",
              "      <td>26.0</td>\n",
              "      <td>f</td>\n",
              "      <td>1756.31</td>\n",
              "      <td>0.0</td>\n",
              "      <td>0.0</td>\n",
              "      <td>0.0</td>\n",
              "      <td>NaN</td>\n",
              "      <td>INDIVIDUAL</td>\n",
              "      <td>NaN</td>\n",
              "      <td>22th week</td>\n",
              "      <td>0.0</td>\n",
              "      <td>0.0</td>\n",
              "      <td>287022.0</td>\n",
              "    </tr>\n",
              "    <tr>\n",
              "      <th>4</th>\n",
              "      <td>59622821</td>\n",
              "      <td>6500</td>\n",
              "      <td>36 months</td>\n",
              "      <td></td>\n",
              "      <td>6.89</td>\n",
              "      <td>A</td>\n",
              "      <td>A3</td>\n",
              "      <td>Paralegal</td>\n",
              "      <td>5 years</td>\n",
              "      <td>MORTGAGE</td>\n",
              "      <td>52000.0</td>\n",
              "      <td>Not Verified</td>\n",
              "      <td>n</td>\n",
              "      <td>NaN</td>\n",
              "      <td>major_purchase</td>\n",
              "      <td>Major purchase</td>\n",
              "      <td>707xx</td>\n",
              "      <td>LA</td>\n",
              "      <td>20.19</td>\n",
              "      <td>0.0</td>\n",
              "      <td>0.0</td>\n",
              "      <td>NaN</td>\n",
              "      <td>NaN</td>\n",
              "      <td>16.0</td>\n",
              "      <td>0.0</td>\n",
              "      <td>5133</td>\n",
              "      <td>19.2</td>\n",
              "      <td>36.0</td>\n",
              "      <td>w</td>\n",
              "      <td>172.21</td>\n",
              "      <td>0.0</td>\n",
              "      <td>0.0</td>\n",
              "      <td>0.0</td>\n",
              "      <td>NaN</td>\n",
              "      <td>INDIVIDUAL</td>\n",
              "      <td>NaN</td>\n",
              "      <td>22th week</td>\n",
              "      <td>0.0</td>\n",
              "      <td>0.0</td>\n",
              "      <td>234278.0</td>\n",
              "    </tr>\n",
              "    <tr>\n",
              "      <th>...</th>\n",
              "      <td>...</td>\n",
              "      <td>...</td>\n",
              "      <td>...</td>\n",
              "      <td>...</td>\n",
              "      <td>...</td>\n",
              "      <td>...</td>\n",
              "      <td>...</td>\n",
              "      <td>...</td>\n",
              "      <td>...</td>\n",
              "      <td>...</td>\n",
              "      <td>...</td>\n",
              "      <td>...</td>\n",
              "      <td>...</td>\n",
              "      <td>...</td>\n",
              "      <td>...</td>\n",
              "      <td>...</td>\n",
              "      <td>...</td>\n",
              "      <td>...</td>\n",
              "      <td>...</td>\n",
              "      <td>...</td>\n",
              "      <td>...</td>\n",
              "      <td>...</td>\n",
              "      <td>...</td>\n",
              "      <td>...</td>\n",
              "      <td>...</td>\n",
              "      <td>...</td>\n",
              "      <td>...</td>\n",
              "      <td>...</td>\n",
              "      <td>...</td>\n",
              "      <td>...</td>\n",
              "      <td>...</td>\n",
              "      <td>...</td>\n",
              "      <td>...</td>\n",
              "      <td>...</td>\n",
              "      <td>...</td>\n",
              "      <td>...</td>\n",
              "      <td>...</td>\n",
              "      <td>...</td>\n",
              "      <td>...</td>\n",
              "      <td>...</td>\n",
              "    </tr>\n",
              "    <tr>\n",
              "      <th>354946</th>\n",
              "      <td>19145105</td>\n",
              "      <td>15000</td>\n",
              "      <td>36 months</td>\n",
              "      <td>BAT4217242</td>\n",
              "      <td>6.49</td>\n",
              "      <td>A</td>\n",
              "      <td>A2</td>\n",
              "      <td>Network administrator</td>\n",
              "      <td>1 year</td>\n",
              "      <td>MORTGAGE</td>\n",
              "      <td>97250.0</td>\n",
              "      <td>Not Verified</td>\n",
              "      <td>n</td>\n",
              "      <td>NaN</td>\n",
              "      <td>credit_card</td>\n",
              "      <td>Credit card refinancing</td>\n",
              "      <td>761xx</td>\n",
              "      <td>TX</td>\n",
              "      <td>12.46</td>\n",
              "      <td>0.0</td>\n",
              "      <td>0.0</td>\n",
              "      <td>77.0</td>\n",
              "      <td>NaN</td>\n",
              "      <td>12.0</td>\n",
              "      <td>0.0</td>\n",
              "      <td>12201</td>\n",
              "      <td>27.7</td>\n",
              "      <td>24.0</td>\n",
              "      <td>w</td>\n",
              "      <td>1180.32</td>\n",
              "      <td>0.0</td>\n",
              "      <td>0.0</td>\n",
              "      <td>0.0</td>\n",
              "      <td>77.0</td>\n",
              "      <td>INDIVIDUAL</td>\n",
              "      <td>NaN</td>\n",
              "      <td>83th week</td>\n",
              "      <td>0.0</td>\n",
              "      <td>0.0</td>\n",
              "      <td>143920.0</td>\n",
              "    </tr>\n",
              "    <tr>\n",
              "      <th>354947</th>\n",
              "      <td>46304777</td>\n",
              "      <td>35000</td>\n",
              "      <td>60 months</td>\n",
              "      <td></td>\n",
              "      <td>25.89</td>\n",
              "      <td>G</td>\n",
              "      <td>G3</td>\n",
              "      <td>Credit Risk Analyst</td>\n",
              "      <td>1 year</td>\n",
              "      <td>OWN</td>\n",
              "      <td>180000.0</td>\n",
              "      <td>Verified</td>\n",
              "      <td>n</td>\n",
              "      <td>NaN</td>\n",
              "      <td>debt_consolidation</td>\n",
              "      <td>Debt consolidation</td>\n",
              "      <td>115xx</td>\n",
              "      <td>NY</td>\n",
              "      <td>11.78</td>\n",
              "      <td>2.0</td>\n",
              "      <td>2.0</td>\n",
              "      <td>19.0</td>\n",
              "      <td>NaN</td>\n",
              "      <td>21.0</td>\n",
              "      <td>0.0</td>\n",
              "      <td>52584</td>\n",
              "      <td>61.4</td>\n",
              "      <td>33.0</td>\n",
              "      <td>f</td>\n",
              "      <td>6508.41</td>\n",
              "      <td>0.0</td>\n",
              "      <td>0.0</td>\n",
              "      <td>0.0</td>\n",
              "      <td>NaN</td>\n",
              "      <td>INDIVIDUAL</td>\n",
              "      <td>NaN</td>\n",
              "      <td>39th week</td>\n",
              "      <td>0.0</td>\n",
              "      <td>0.0</td>\n",
              "      <td>772713.0</td>\n",
              "    </tr>\n",
              "    <tr>\n",
              "      <th>354948</th>\n",
              "      <td>903745</td>\n",
              "      <td>14000</td>\n",
              "      <td>60 months</td>\n",
              "      <td>BAT6117184</td>\n",
              "      <td>17.51</td>\n",
              "      <td>E</td>\n",
              "      <td>E4</td>\n",
              "      <td>USPS/Nashua L&amp;DC</td>\n",
              "      <td>10+ years</td>\n",
              "      <td>OWN</td>\n",
              "      <td>56000.0</td>\n",
              "      <td>Verified</td>\n",
              "      <td>n</td>\n",
              "      <td>I will be using the loan money to pay off the ...</td>\n",
              "      <td>home_improvement</td>\n",
              "      <td>Debt Consolidation</td>\n",
              "      <td>038xx</td>\n",
              "      <td>NH</td>\n",
              "      <td>16.44</td>\n",
              "      <td>0.0</td>\n",
              "      <td>3.0</td>\n",
              "      <td>54.0</td>\n",
              "      <td>103.0</td>\n",
              "      <td>11.0</td>\n",
              "      <td>1.0</td>\n",
              "      <td>10948</td>\n",
              "      <td>66.1</td>\n",
              "      <td>25.0</td>\n",
              "      <td>f</td>\n",
              "      <td>3456.24</td>\n",
              "      <td>0.0</td>\n",
              "      <td>0.0</td>\n",
              "      <td>0.0</td>\n",
              "      <td>NaN</td>\n",
              "      <td>INDIVIDUAL</td>\n",
              "      <td>NaN</td>\n",
              "      <td>87th week</td>\n",
              "      <td>0.0</td>\n",
              "      <td>NaN</td>\n",
              "      <td>NaN</td>\n",
              "    </tr>\n",
              "    <tr>\n",
              "      <th>354949</th>\n",
              "      <td>53032475</td>\n",
              "      <td>20000</td>\n",
              "      <td>36 months</td>\n",
              "      <td>BAT3840785</td>\n",
              "      <td>7.26</td>\n",
              "      <td>A</td>\n",
              "      <td>A4</td>\n",
              "      <td>Computer Engineer</td>\n",
              "      <td>&lt; 1 year</td>\n",
              "      <td>MORTGAGE</td>\n",
              "      <td>100000.0</td>\n",
              "      <td>Source Verified</td>\n",
              "      <td>n</td>\n",
              "      <td>NaN</td>\n",
              "      <td>credit_card</td>\n",
              "      <td>Credit card refinancing</td>\n",
              "      <td>206xx</td>\n",
              "      <td>MD</td>\n",
              "      <td>15.00</td>\n",
              "      <td>0.0</td>\n",
              "      <td>0.0</td>\n",
              "      <td>NaN</td>\n",
              "      <td>NaN</td>\n",
              "      <td>7.0</td>\n",
              "      <td>0.0</td>\n",
              "      <td>33599</td>\n",
              "      <td>61.5</td>\n",
              "      <td>11.0</td>\n",
              "      <td>w</td>\n",
              "      <td>766.84</td>\n",
              "      <td>0.0</td>\n",
              "      <td>0.0</td>\n",
              "      <td>0.0</td>\n",
              "      <td>NaN</td>\n",
              "      <td>INDIVIDUAL</td>\n",
              "      <td>NaN</td>\n",
              "      <td>35th week</td>\n",
              "      <td>0.0</td>\n",
              "      <td>0.0</td>\n",
              "      <td>291998.0</td>\n",
              "    </tr>\n",
              "    <tr>\n",
              "      <th>354950</th>\n",
              "      <td>994245</td>\n",
              "      <td>2700</td>\n",
              "      <td>60 months</td>\n",
              "      <td>NaN</td>\n",
              "      <td>7.49</td>\n",
              "      <td>A</td>\n",
              "      <td>A4</td>\n",
              "      <td>Jimmy John's Sandwiches</td>\n",
              "      <td>2 years</td>\n",
              "      <td>OWN</td>\n",
              "      <td>12000.0</td>\n",
              "      <td>Not Verified</td>\n",
              "      <td>n</td>\n",
              "      <td>&gt; This loan will be used to pay for another...</td>\n",
              "      <td>debt_consolidation</td>\n",
              "      <td>Debt Consolidation Loan</td>\n",
              "      <td>323xx</td>\n",
              "      <td>FL</td>\n",
              "      <td>28.00</td>\n",
              "      <td>0.0</td>\n",
              "      <td>0.0</td>\n",
              "      <td>NaN</td>\n",
              "      <td>NaN</td>\n",
              "      <td>7.0</td>\n",
              "      <td>0.0</td>\n",
              "      <td>5118</td>\n",
              "      <td>25.8</td>\n",
              "      <td>7.0</td>\n",
              "      <td>f</td>\n",
              "      <td>326.06</td>\n",
              "      <td>0.0</td>\n",
              "      <td>0.0</td>\n",
              "      <td>0.0</td>\n",
              "      <td>NaN</td>\n",
              "      <td>INDIVIDUAL</td>\n",
              "      <td>NaN</td>\n",
              "      <td>104th week</td>\n",
              "      <td>0.0</td>\n",
              "      <td>NaN</td>\n",
              "      <td>NaN</td>\n",
              "    </tr>\n",
              "  </tbody>\n",
              "</table>\n",
              "<p>354951 rows × 40 columns</p>\n",
              "</div>"
            ],
            "text/plain": [
              "        member_id  loan_amnt  ... tot_coll_amt tot_cur_bal\n",
              "0        11937648      14000  ...          0.0     85230.0\n",
              "1        38983318      16000  ...          0.0    444991.0\n",
              "2        27999917      11050  ...          0.0    105737.0\n",
              "3        61514932      35000  ...          0.0    287022.0\n",
              "4        59622821       6500  ...          0.0    234278.0\n",
              "...           ...        ...  ...          ...         ...\n",
              "354946   19145105      15000  ...          0.0    143920.0\n",
              "354947   46304777      35000  ...          0.0    772713.0\n",
              "354948     903745      14000  ...          NaN         NaN\n",
              "354949   53032475      20000  ...          0.0    291998.0\n",
              "354950     994245       2700  ...          NaN         NaN\n",
              "\n",
              "[354951 rows x 40 columns]"
            ]
          },
          "metadata": {
            "tags": []
          },
          "execution_count": 145
        }
      ]
    },
    {
      "cell_type": "code",
      "metadata": {
        "colab": {
          "base_uri": "https://localhost:8080/"
        },
        "id": "oERrTs-b54f3",
        "outputId": "ca17822c-5815-4e45-d886-edcd995d5d54"
      },
      "source": [
        "df.isnull().sum()"
      ],
      "execution_count": 146,
      "outputs": [
        {
          "output_type": "execute_result",
          "data": {
            "text/plain": [
              "member_id                           0\n",
              "loan_amnt                           0\n",
              "term                                0\n",
              "batch_enrolled                  85149\n",
              "int_rate                            0\n",
              "grade                               0\n",
              "sub_grade                           0\n",
              "emp_title                       30833\n",
              "emp_length                      26891\n",
              "home_ownership                      0\n",
              "annual_inc                          3\n",
              "verification_status                 0\n",
              "pymnt_plan                          0\n",
              "desc                           456829\n",
              "purpose                             0\n",
              "title                              90\n",
              "zip_code                            0\n",
              "addr_state                          0\n",
              "dti                                 0\n",
              "delinq_2yrs                        16\n",
              "inq_last_6mths                     16\n",
              "mths_since_last_delinq         272554\n",
              "mths_since_last_record         450305\n",
              "open_acc                           16\n",
              "pub_rec                            16\n",
              "revol_bal                           0\n",
              "revol_util                        287\n",
              "total_acc                          16\n",
              "initial_list_status                 0\n",
              "total_rec_int                       0\n",
              "total_rec_late_fee                  0\n",
              "recoveries                          0\n",
              "collections_12_mths_ex_med         95\n",
              "mths_since_last_major_derog    399448\n",
              "application_type                    0\n",
              "verification_status_joint      532123\n",
              "last_week_pay                       0\n",
              "acc_now_delinq                     16\n",
              "tot_coll_amt                    42004\n",
              "tot_cur_bal                     42004\n",
              "loan_status                         0\n",
              "dtype: int64"
            ]
          },
          "metadata": {
            "tags": []
          },
          "execution_count": 146
        }
      ]
    },
    {
      "cell_type": "code",
      "metadata": {
        "colab": {
          "base_uri": "https://localhost:8080/",
          "height": 451
        },
        "id": "zeVViOkw6Dgl",
        "outputId": "388779c5-646a-4632-d501-41c304d4ec87"
      },
      "source": [
        "df.head(5)"
      ],
      "execution_count": 147,
      "outputs": [
        {
          "output_type": "execute_result",
          "data": {
            "text/html": [
              "<div>\n",
              "<style scoped>\n",
              "    .dataframe tbody tr th:only-of-type {\n",
              "        vertical-align: middle;\n",
              "    }\n",
              "\n",
              "    .dataframe tbody tr th {\n",
              "        vertical-align: top;\n",
              "    }\n",
              "\n",
              "    .dataframe thead th {\n",
              "        text-align: right;\n",
              "    }\n",
              "</style>\n",
              "<table border=\"1\" class=\"dataframe\">\n",
              "  <thead>\n",
              "    <tr style=\"text-align: right;\">\n",
              "      <th></th>\n",
              "      <th>member_id</th>\n",
              "      <th>loan_amnt</th>\n",
              "      <th>term</th>\n",
              "      <th>batch_enrolled</th>\n",
              "      <th>int_rate</th>\n",
              "      <th>grade</th>\n",
              "      <th>sub_grade</th>\n",
              "      <th>emp_title</th>\n",
              "      <th>emp_length</th>\n",
              "      <th>home_ownership</th>\n",
              "      <th>annual_inc</th>\n",
              "      <th>verification_status</th>\n",
              "      <th>pymnt_plan</th>\n",
              "      <th>desc</th>\n",
              "      <th>purpose</th>\n",
              "      <th>title</th>\n",
              "      <th>zip_code</th>\n",
              "      <th>addr_state</th>\n",
              "      <th>dti</th>\n",
              "      <th>delinq_2yrs</th>\n",
              "      <th>inq_last_6mths</th>\n",
              "      <th>mths_since_last_delinq</th>\n",
              "      <th>mths_since_last_record</th>\n",
              "      <th>open_acc</th>\n",
              "      <th>pub_rec</th>\n",
              "      <th>revol_bal</th>\n",
              "      <th>revol_util</th>\n",
              "      <th>total_acc</th>\n",
              "      <th>initial_list_status</th>\n",
              "      <th>total_rec_int</th>\n",
              "      <th>total_rec_late_fee</th>\n",
              "      <th>recoveries</th>\n",
              "      <th>collections_12_mths_ex_med</th>\n",
              "      <th>mths_since_last_major_derog</th>\n",
              "      <th>application_type</th>\n",
              "      <th>verification_status_joint</th>\n",
              "      <th>last_week_pay</th>\n",
              "      <th>acc_now_delinq</th>\n",
              "      <th>tot_coll_amt</th>\n",
              "      <th>tot_cur_bal</th>\n",
              "      <th>loan_status</th>\n",
              "    </tr>\n",
              "  </thead>\n",
              "  <tbody>\n",
              "    <tr>\n",
              "      <th>0</th>\n",
              "      <td>58189336</td>\n",
              "      <td>14350</td>\n",
              "      <td>36 months</td>\n",
              "      <td></td>\n",
              "      <td>19.19</td>\n",
              "      <td>E</td>\n",
              "      <td>E3</td>\n",
              "      <td>clerk</td>\n",
              "      <td>9 years</td>\n",
              "      <td>OWN</td>\n",
              "      <td>28700.0</td>\n",
              "      <td>Source Verified</td>\n",
              "      <td>n</td>\n",
              "      <td>NaN</td>\n",
              "      <td>debt_consolidation</td>\n",
              "      <td>Debt consolidation</td>\n",
              "      <td>349xx</td>\n",
              "      <td>FL</td>\n",
              "      <td>33.88</td>\n",
              "      <td>0.0</td>\n",
              "      <td>1.0</td>\n",
              "      <td>50.0</td>\n",
              "      <td>75.0</td>\n",
              "      <td>14.0</td>\n",
              "      <td>1.0</td>\n",
              "      <td>22515.0</td>\n",
              "      <td>73.1</td>\n",
              "      <td>28.0</td>\n",
              "      <td>f</td>\n",
              "      <td>1173.84</td>\n",
              "      <td>0.0</td>\n",
              "      <td>0.0</td>\n",
              "      <td>0.0</td>\n",
              "      <td>74.0</td>\n",
              "      <td>INDIVIDUAL</td>\n",
              "      <td>NaN</td>\n",
              "      <td>26th week</td>\n",
              "      <td>0.0</td>\n",
              "      <td>0.0</td>\n",
              "      <td>28699.0</td>\n",
              "      <td>0</td>\n",
              "    </tr>\n",
              "    <tr>\n",
              "      <th>1</th>\n",
              "      <td>70011223</td>\n",
              "      <td>4800</td>\n",
              "      <td>36 months</td>\n",
              "      <td>BAT1586599</td>\n",
              "      <td>10.99</td>\n",
              "      <td>B</td>\n",
              "      <td>B4</td>\n",
              "      <td>Human Resources Specialist</td>\n",
              "      <td>&lt; 1 year</td>\n",
              "      <td>MORTGAGE</td>\n",
              "      <td>65000.0</td>\n",
              "      <td>Source Verified</td>\n",
              "      <td>n</td>\n",
              "      <td>NaN</td>\n",
              "      <td>home_improvement</td>\n",
              "      <td>Home improvement</td>\n",
              "      <td>209xx</td>\n",
              "      <td>MD</td>\n",
              "      <td>3.64</td>\n",
              "      <td>0.0</td>\n",
              "      <td>1.0</td>\n",
              "      <td>NaN</td>\n",
              "      <td>NaN</td>\n",
              "      <td>6.0</td>\n",
              "      <td>0.0</td>\n",
              "      <td>7624.0</td>\n",
              "      <td>23.2</td>\n",
              "      <td>13.0</td>\n",
              "      <td>w</td>\n",
              "      <td>83.95</td>\n",
              "      <td>0.0</td>\n",
              "      <td>0.0</td>\n",
              "      <td>0.0</td>\n",
              "      <td>NaN</td>\n",
              "      <td>INDIVIDUAL</td>\n",
              "      <td>NaN</td>\n",
              "      <td>9th week</td>\n",
              "      <td>0.0</td>\n",
              "      <td>0.0</td>\n",
              "      <td>9974.0</td>\n",
              "      <td>0</td>\n",
              "    </tr>\n",
              "    <tr>\n",
              "      <th>2</th>\n",
              "      <td>70255675</td>\n",
              "      <td>10000</td>\n",
              "      <td>36 months</td>\n",
              "      <td>BAT1586599</td>\n",
              "      <td>7.26</td>\n",
              "      <td>A</td>\n",
              "      <td>A4</td>\n",
              "      <td>Driver</td>\n",
              "      <td>2 years</td>\n",
              "      <td>OWN</td>\n",
              "      <td>45000.0</td>\n",
              "      <td>Not Verified</td>\n",
              "      <td>n</td>\n",
              "      <td>NaN</td>\n",
              "      <td>debt_consolidation</td>\n",
              "      <td>Debt consolidation</td>\n",
              "      <td>447xx</td>\n",
              "      <td>OH</td>\n",
              "      <td>18.42</td>\n",
              "      <td>0.0</td>\n",
              "      <td>0.0</td>\n",
              "      <td>NaN</td>\n",
              "      <td>NaN</td>\n",
              "      <td>5.0</td>\n",
              "      <td>0.0</td>\n",
              "      <td>10877.0</td>\n",
              "      <td>31.2</td>\n",
              "      <td>19.0</td>\n",
              "      <td>w</td>\n",
              "      <td>56.47</td>\n",
              "      <td>0.0</td>\n",
              "      <td>0.0</td>\n",
              "      <td>0.0</td>\n",
              "      <td>NaN</td>\n",
              "      <td>INDIVIDUAL</td>\n",
              "      <td>NaN</td>\n",
              "      <td>9th week</td>\n",
              "      <td>0.0</td>\n",
              "      <td>65.0</td>\n",
              "      <td>38295.0</td>\n",
              "      <td>0</td>\n",
              "    </tr>\n",
              "    <tr>\n",
              "      <th>3</th>\n",
              "      <td>1893936</td>\n",
              "      <td>15000</td>\n",
              "      <td>36 months</td>\n",
              "      <td>BAT4808022</td>\n",
              "      <td>19.72</td>\n",
              "      <td>D</td>\n",
              "      <td>D5</td>\n",
              "      <td>Us office of Personnel Management</td>\n",
              "      <td>10+ years</td>\n",
              "      <td>RENT</td>\n",
              "      <td>105000.0</td>\n",
              "      <td>Not Verified</td>\n",
              "      <td>n</td>\n",
              "      <td>&gt; My goal is to obtain a loan to pay off my hi...</td>\n",
              "      <td>debt_consolidation</td>\n",
              "      <td>Debt consolidation</td>\n",
              "      <td>221xx</td>\n",
              "      <td>VA</td>\n",
              "      <td>14.97</td>\n",
              "      <td>0.0</td>\n",
              "      <td>2.0</td>\n",
              "      <td>46.0</td>\n",
              "      <td>NaN</td>\n",
              "      <td>10.0</td>\n",
              "      <td>0.0</td>\n",
              "      <td>13712.0</td>\n",
              "      <td>55.5</td>\n",
              "      <td>21.0</td>\n",
              "      <td>f</td>\n",
              "      <td>4858.62</td>\n",
              "      <td>0.0</td>\n",
              "      <td>0.0</td>\n",
              "      <td>0.0</td>\n",
              "      <td>NaN</td>\n",
              "      <td>INDIVIDUAL</td>\n",
              "      <td>NaN</td>\n",
              "      <td>135th week</td>\n",
              "      <td>0.0</td>\n",
              "      <td>0.0</td>\n",
              "      <td>55564.0</td>\n",
              "      <td>0</td>\n",
              "    </tr>\n",
              "    <tr>\n",
              "      <th>4</th>\n",
              "      <td>7652106</td>\n",
              "      <td>16000</td>\n",
              "      <td>36 months</td>\n",
              "      <td>BAT2833642</td>\n",
              "      <td>10.64</td>\n",
              "      <td>B</td>\n",
              "      <td>B2</td>\n",
              "      <td>LAUSD-HOLLYWOOD HIGH SCHOOL</td>\n",
              "      <td>10+ years</td>\n",
              "      <td>RENT</td>\n",
              "      <td>52000.0</td>\n",
              "      <td>Verified</td>\n",
              "      <td>n</td>\n",
              "      <td>NaN</td>\n",
              "      <td>credit_card</td>\n",
              "      <td>refi</td>\n",
              "      <td>900xx</td>\n",
              "      <td>CA</td>\n",
              "      <td>20.16</td>\n",
              "      <td>0.0</td>\n",
              "      <td>0.0</td>\n",
              "      <td>NaN</td>\n",
              "      <td>NaN</td>\n",
              "      <td>11.0</td>\n",
              "      <td>0.0</td>\n",
              "      <td>35835.0</td>\n",
              "      <td>76.2</td>\n",
              "      <td>27.0</td>\n",
              "      <td>w</td>\n",
              "      <td>2296.41</td>\n",
              "      <td>0.0</td>\n",
              "      <td>0.0</td>\n",
              "      <td>0.0</td>\n",
              "      <td>NaN</td>\n",
              "      <td>INDIVIDUAL</td>\n",
              "      <td>NaN</td>\n",
              "      <td>96th week</td>\n",
              "      <td>0.0</td>\n",
              "      <td>0.0</td>\n",
              "      <td>47159.0</td>\n",
              "      <td>0</td>\n",
              "    </tr>\n",
              "  </tbody>\n",
              "</table>\n",
              "</div>"
            ],
            "text/plain": [
              "   member_id  loan_amnt       term  ... tot_coll_amt  tot_cur_bal loan_status\n",
              "0   58189336      14350  36 months  ...          0.0      28699.0           0\n",
              "1   70011223       4800  36 months  ...          0.0       9974.0           0\n",
              "2   70255675      10000  36 months  ...         65.0      38295.0           0\n",
              "3    1893936      15000  36 months  ...          0.0      55564.0           0\n",
              "4    7652106      16000  36 months  ...          0.0      47159.0           0\n",
              "\n",
              "[5 rows x 41 columns]"
            ]
          },
          "metadata": {
            "tags": []
          },
          "execution_count": 147
        }
      ]
    },
    {
      "cell_type": "code",
      "metadata": {
        "id": "8_wQNbTKIOGX"
      },
      "source": [
        "#Now we will remove some extra columns"
      ],
      "execution_count": 148,
      "outputs": []
    },
    {
      "cell_type": "code",
      "metadata": {
        "id": "Mn_p9BLyISeg"
      },
      "source": [
        "droplist=['zip_code',\t'addr_state','desc','emp_title','batch_enrolled','title']\n",
        "df=df.drop(droplist,axis=1)\n",
        "testdf=testdf.drop(droplist,axis=1)"
      ],
      "execution_count": 149,
      "outputs": []
    },
    {
      "cell_type": "code",
      "metadata": {
        "colab": {
          "base_uri": "https://localhost:8080/",
          "height": 161
        },
        "id": "A2EOkfgTH38u",
        "outputId": "95cb62bc-72a0-4517-c939-d7bc79ffc333"
      },
      "source": [
        "df.head(2)"
      ],
      "execution_count": 150,
      "outputs": [
        {
          "output_type": "execute_result",
          "data": {
            "text/html": [
              "<div>\n",
              "<style scoped>\n",
              "    .dataframe tbody tr th:only-of-type {\n",
              "        vertical-align: middle;\n",
              "    }\n",
              "\n",
              "    .dataframe tbody tr th {\n",
              "        vertical-align: top;\n",
              "    }\n",
              "\n",
              "    .dataframe thead th {\n",
              "        text-align: right;\n",
              "    }\n",
              "</style>\n",
              "<table border=\"1\" class=\"dataframe\">\n",
              "  <thead>\n",
              "    <tr style=\"text-align: right;\">\n",
              "      <th></th>\n",
              "      <th>member_id</th>\n",
              "      <th>loan_amnt</th>\n",
              "      <th>term</th>\n",
              "      <th>int_rate</th>\n",
              "      <th>grade</th>\n",
              "      <th>sub_grade</th>\n",
              "      <th>emp_length</th>\n",
              "      <th>home_ownership</th>\n",
              "      <th>annual_inc</th>\n",
              "      <th>verification_status</th>\n",
              "      <th>pymnt_plan</th>\n",
              "      <th>purpose</th>\n",
              "      <th>dti</th>\n",
              "      <th>delinq_2yrs</th>\n",
              "      <th>inq_last_6mths</th>\n",
              "      <th>mths_since_last_delinq</th>\n",
              "      <th>mths_since_last_record</th>\n",
              "      <th>open_acc</th>\n",
              "      <th>pub_rec</th>\n",
              "      <th>revol_bal</th>\n",
              "      <th>revol_util</th>\n",
              "      <th>total_acc</th>\n",
              "      <th>initial_list_status</th>\n",
              "      <th>total_rec_int</th>\n",
              "      <th>total_rec_late_fee</th>\n",
              "      <th>recoveries</th>\n",
              "      <th>collections_12_mths_ex_med</th>\n",
              "      <th>mths_since_last_major_derog</th>\n",
              "      <th>application_type</th>\n",
              "      <th>verification_status_joint</th>\n",
              "      <th>last_week_pay</th>\n",
              "      <th>acc_now_delinq</th>\n",
              "      <th>tot_coll_amt</th>\n",
              "      <th>tot_cur_bal</th>\n",
              "      <th>loan_status</th>\n",
              "    </tr>\n",
              "  </thead>\n",
              "  <tbody>\n",
              "    <tr>\n",
              "      <th>0</th>\n",
              "      <td>58189336</td>\n",
              "      <td>14350</td>\n",
              "      <td>36 months</td>\n",
              "      <td>19.19</td>\n",
              "      <td>E</td>\n",
              "      <td>E3</td>\n",
              "      <td>9 years</td>\n",
              "      <td>OWN</td>\n",
              "      <td>28700.0</td>\n",
              "      <td>Source Verified</td>\n",
              "      <td>n</td>\n",
              "      <td>debt_consolidation</td>\n",
              "      <td>33.88</td>\n",
              "      <td>0.0</td>\n",
              "      <td>1.0</td>\n",
              "      <td>50.0</td>\n",
              "      <td>75.0</td>\n",
              "      <td>14.0</td>\n",
              "      <td>1.0</td>\n",
              "      <td>22515.0</td>\n",
              "      <td>73.1</td>\n",
              "      <td>28.0</td>\n",
              "      <td>f</td>\n",
              "      <td>1173.84</td>\n",
              "      <td>0.0</td>\n",
              "      <td>0.0</td>\n",
              "      <td>0.0</td>\n",
              "      <td>74.0</td>\n",
              "      <td>INDIVIDUAL</td>\n",
              "      <td>NaN</td>\n",
              "      <td>26th week</td>\n",
              "      <td>0.0</td>\n",
              "      <td>0.0</td>\n",
              "      <td>28699.0</td>\n",
              "      <td>0</td>\n",
              "    </tr>\n",
              "    <tr>\n",
              "      <th>1</th>\n",
              "      <td>70011223</td>\n",
              "      <td>4800</td>\n",
              "      <td>36 months</td>\n",
              "      <td>10.99</td>\n",
              "      <td>B</td>\n",
              "      <td>B4</td>\n",
              "      <td>&lt; 1 year</td>\n",
              "      <td>MORTGAGE</td>\n",
              "      <td>65000.0</td>\n",
              "      <td>Source Verified</td>\n",
              "      <td>n</td>\n",
              "      <td>home_improvement</td>\n",
              "      <td>3.64</td>\n",
              "      <td>0.0</td>\n",
              "      <td>1.0</td>\n",
              "      <td>NaN</td>\n",
              "      <td>NaN</td>\n",
              "      <td>6.0</td>\n",
              "      <td>0.0</td>\n",
              "      <td>7624.0</td>\n",
              "      <td>23.2</td>\n",
              "      <td>13.0</td>\n",
              "      <td>w</td>\n",
              "      <td>83.95</td>\n",
              "      <td>0.0</td>\n",
              "      <td>0.0</td>\n",
              "      <td>0.0</td>\n",
              "      <td>NaN</td>\n",
              "      <td>INDIVIDUAL</td>\n",
              "      <td>NaN</td>\n",
              "      <td>9th week</td>\n",
              "      <td>0.0</td>\n",
              "      <td>0.0</td>\n",
              "      <td>9974.0</td>\n",
              "      <td>0</td>\n",
              "    </tr>\n",
              "  </tbody>\n",
              "</table>\n",
              "</div>"
            ],
            "text/plain": [
              "   member_id  loan_amnt       term  ...  tot_coll_amt tot_cur_bal loan_status\n",
              "0   58189336      14350  36 months  ...           0.0     28699.0           0\n",
              "1   70011223       4800  36 months  ...           0.0      9974.0           0\n",
              "\n",
              "[2 rows x 35 columns]"
            ]
          },
          "metadata": {
            "tags": []
          },
          "execution_count": 150
        }
      ]
    },
    {
      "cell_type": "code",
      "metadata": {
        "colab": {
          "base_uri": "https://localhost:8080/",
          "height": 161
        },
        "id": "fnfy7qO9MaGU",
        "outputId": "5abd4ef7-6aff-4cfb-96d4-2b89971104e5"
      },
      "source": [
        "testdf.head(2)"
      ],
      "execution_count": 151,
      "outputs": [
        {
          "output_type": "execute_result",
          "data": {
            "text/html": [
              "<div>\n",
              "<style scoped>\n",
              "    .dataframe tbody tr th:only-of-type {\n",
              "        vertical-align: middle;\n",
              "    }\n",
              "\n",
              "    .dataframe tbody tr th {\n",
              "        vertical-align: top;\n",
              "    }\n",
              "\n",
              "    .dataframe thead th {\n",
              "        text-align: right;\n",
              "    }\n",
              "</style>\n",
              "<table border=\"1\" class=\"dataframe\">\n",
              "  <thead>\n",
              "    <tr style=\"text-align: right;\">\n",
              "      <th></th>\n",
              "      <th>member_id</th>\n",
              "      <th>loan_amnt</th>\n",
              "      <th>term</th>\n",
              "      <th>int_rate</th>\n",
              "      <th>grade</th>\n",
              "      <th>sub_grade</th>\n",
              "      <th>emp_length</th>\n",
              "      <th>home_ownership</th>\n",
              "      <th>annual_inc</th>\n",
              "      <th>verification_status</th>\n",
              "      <th>pymnt_plan</th>\n",
              "      <th>purpose</th>\n",
              "      <th>dti</th>\n",
              "      <th>delinq_2yrs</th>\n",
              "      <th>inq_last_6mths</th>\n",
              "      <th>mths_since_last_delinq</th>\n",
              "      <th>mths_since_last_record</th>\n",
              "      <th>open_acc</th>\n",
              "      <th>pub_rec</th>\n",
              "      <th>revol_bal</th>\n",
              "      <th>revol_util</th>\n",
              "      <th>total_acc</th>\n",
              "      <th>initial_list_status</th>\n",
              "      <th>total_rec_int</th>\n",
              "      <th>total_rec_late_fee</th>\n",
              "      <th>recoveries</th>\n",
              "      <th>collections_12_mths_ex_med</th>\n",
              "      <th>mths_since_last_major_derog</th>\n",
              "      <th>application_type</th>\n",
              "      <th>verification_status_joint</th>\n",
              "      <th>last_week_pay</th>\n",
              "      <th>acc_now_delinq</th>\n",
              "      <th>tot_coll_amt</th>\n",
              "      <th>tot_cur_bal</th>\n",
              "    </tr>\n",
              "  </thead>\n",
              "  <tbody>\n",
              "    <tr>\n",
              "      <th>0</th>\n",
              "      <td>11937648</td>\n",
              "      <td>14000</td>\n",
              "      <td>60 months</td>\n",
              "      <td>16.24</td>\n",
              "      <td>C</td>\n",
              "      <td>C5</td>\n",
              "      <td>4 years</td>\n",
              "      <td>RENT</td>\n",
              "      <td>73500.0</td>\n",
              "      <td>Source Verified</td>\n",
              "      <td>n</td>\n",
              "      <td>credit_card</td>\n",
              "      <td>28.65</td>\n",
              "      <td>1.0</td>\n",
              "      <td>1.0</td>\n",
              "      <td>20.0</td>\n",
              "      <td>NaN</td>\n",
              "      <td>16.0</td>\n",
              "      <td>0.0</td>\n",
              "      <td>29828</td>\n",
              "      <td>65.3</td>\n",
              "      <td>53.0</td>\n",
              "      <td>f</td>\n",
              "      <td>3915.61</td>\n",
              "      <td>0.0</td>\n",
              "      <td>0.0</td>\n",
              "      <td>0.0</td>\n",
              "      <td>NaN</td>\n",
              "      <td>INDIVIDUAL</td>\n",
              "      <td>NaN</td>\n",
              "      <td>104th week</td>\n",
              "      <td>0.0</td>\n",
              "      <td>0.0</td>\n",
              "      <td>85230.0</td>\n",
              "    </tr>\n",
              "    <tr>\n",
              "      <th>1</th>\n",
              "      <td>38983318</td>\n",
              "      <td>16000</td>\n",
              "      <td>60 months</td>\n",
              "      <td>9.49</td>\n",
              "      <td>B</td>\n",
              "      <td>B2</td>\n",
              "      <td>5 years</td>\n",
              "      <td>MORTGAGE</td>\n",
              "      <td>105000.0</td>\n",
              "      <td>Source Verified</td>\n",
              "      <td>n</td>\n",
              "      <td>major_purchase</td>\n",
              "      <td>31.19</td>\n",
              "      <td>0.0</td>\n",
              "      <td>0.0</td>\n",
              "      <td>NaN</td>\n",
              "      <td>NaN</td>\n",
              "      <td>8.0</td>\n",
              "      <td>0.0</td>\n",
              "      <td>4161</td>\n",
              "      <td>19.4</td>\n",
              "      <td>63.0</td>\n",
              "      <td>w</td>\n",
              "      <td>1495.06</td>\n",
              "      <td>0.0</td>\n",
              "      <td>0.0</td>\n",
              "      <td>0.0</td>\n",
              "      <td>NaN</td>\n",
              "      <td>INDIVIDUAL</td>\n",
              "      <td>NaN</td>\n",
              "      <td>57th week</td>\n",
              "      <td>0.0</td>\n",
              "      <td>0.0</td>\n",
              "      <td>444991.0</td>\n",
              "    </tr>\n",
              "  </tbody>\n",
              "</table>\n",
              "</div>"
            ],
            "text/plain": [
              "   member_id  loan_amnt       term  ...  acc_now_delinq tot_coll_amt tot_cur_bal\n",
              "0   11937648      14000  60 months  ...             0.0          0.0     85230.0\n",
              "1   38983318      16000  60 months  ...             0.0          0.0    444991.0\n",
              "\n",
              "[2 rows x 34 columns]"
            ]
          },
          "metadata": {
            "tags": []
          },
          "execution_count": 151
        }
      ]
    },
    {
      "cell_type": "code",
      "metadata": {
        "id": "E6cI6zhnI7SC"
      },
      "source": [
        "df['emp_length'].replace('n/a', '0', inplace=True)\n",
        "df['emp_length'].replace(to_replace='\\+ years', value='', regex=True, inplace=True)\n",
        "df['emp_length'].replace(to_replace=' years', value='', regex=True, inplace=True)\n",
        "df['emp_length'].replace(to_replace='< 1 year', value='0', regex=True, inplace=True)\n",
        "df['emp_length'].replace(to_replace=' year', value='', regex=True, inplace=True)\n",
        "\n",
        "# Convert it to numeric\n",
        "df['emp_length'] = pd.to_numeric(df['emp_length'], errors='coerce') \n",
        "\n"
      ],
      "execution_count": 152,
      "outputs": []
    },
    {
      "cell_type": "code",
      "metadata": {
        "id": "m-SVPvdummys"
      },
      "source": [
        "testdf['emp_length'].replace('n/a', '0', inplace=True)\n",
        "testdf['emp_length'].replace(to_replace='\\+ years', value='', regex=True, inplace=True)\n",
        "testdf['emp_length'].replace(to_replace=' years', value='', regex=True, inplace=True)\n",
        "testdf['emp_length'].replace(to_replace='< 1 year', value='0', regex=True, inplace=True)\n",
        "testdf['emp_length'].replace(to_replace=' year', value='', regex=True, inplace=True)\n",
        "\n",
        "# Convert it to numeric\n",
        "testdf['emp_length'] = pd.to_numeric(testdf['emp_length'], errors='coerce')"
      ],
      "execution_count": 153,
      "outputs": []
    },
    {
      "cell_type": "code",
      "metadata": {
        "id": "cKGSZWjqK5s8"
      },
      "source": [
        "df['sub_grade'].replace(to_replace='A', value='0', regex=True, inplace=True)\n",
        "df['sub_grade'].replace(to_replace='B', value='1', regex=True, inplace=True)\n",
        "df['sub_grade'].replace(to_replace='C', value='2', regex=True, inplace=True)\n",
        "df['sub_grade'].replace(to_replace='D', value='3', regex=True, inplace=True)\n",
        "df['sub_grade'].replace(to_replace='E', value='4', regex=True, inplace=True)\n",
        "df['sub_grade'].replace(to_replace='F', value='5', regex=True, inplace=True)\n",
        "df['sub_grade'].replace(to_replace='G', value='6', regex=True, inplace=True) \n",
        "\n",
        "# Convert it to numeric\n",
        "df['sub_grade'] = pd.to_numeric(df['sub_grade'], errors='coerce') "
      ],
      "execution_count": 154,
      "outputs": []
    },
    {
      "cell_type": "code",
      "metadata": {
        "id": "2rzyoowtm11a"
      },
      "source": [
        "testdf['sub_grade'].replace(to_replace='A', value='0', regex=True, inplace=True)\n",
        "testdf['sub_grade'].replace(to_replace='B', value='1', regex=True, inplace=True)\n",
        "testdf['sub_grade'].replace(to_replace='C', value='2', regex=True, inplace=True)\n",
        "testdf['sub_grade'].replace(to_replace='D', value='3', regex=True, inplace=True)\n",
        "testdf['sub_grade'].replace(to_replace='E', value='4', regex=True, inplace=True)\n",
        "testdf['sub_grade'].replace(to_replace='F', value='5', regex=True, inplace=True)\n",
        "testdf['sub_grade'].replace(to_replace='G', value='6', regex=True, inplace=True) \n",
        "\n",
        "# Convert it to numeric\n",
        "testdf['sub_grade'] = pd.to_numeric(testdf['sub_grade'], errors='coerce') "
      ],
      "execution_count": 155,
      "outputs": []
    },
    {
      "cell_type": "code",
      "metadata": {
        "id": "IKsdU_k1LHUa"
      },
      "source": [
        "df['last_week_pay'].replace(to_replace='th week', value='', regex=True, inplace=True)\n",
        "\n",
        "df['last_week_pay'].replace(to_replace='NA', value='', regex=True, inplace=True)\n",
        "\n",
        "# Convert it to numeric\n",
        "df['last_week_pay'] = pd.to_numeric(df['last_week_pay'], errors='coerce')"
      ],
      "execution_count": 156,
      "outputs": []
    },
    {
      "cell_type": "code",
      "metadata": {
        "id": "uBUEijadm8vL"
      },
      "source": [
        "testdf['last_week_pay'].replace(to_replace='th week', value='', regex=True, inplace=True)\n",
        "\n",
        "testdf['last_week_pay'].replace(to_replace='NA', value='', regex=True, inplace=True)\n",
        "\n",
        "# Convert it to numeric\n",
        "testdf['last_week_pay'] = pd.to_numeric(testdf['last_week_pay'], errors='coerce')"
      ],
      "execution_count": 157,
      "outputs": []
    },
    {
      "cell_type": "code",
      "metadata": {
        "id": "N0yl0DsILm7y"
      },
      "source": [
        "# Replaces months string with '' \n",
        "testdf['term'].replace(to_replace=' months', value='', regex=True, inplace=True) \n",
        "\n",
        "# Convert it to numeric\n",
        "testdf['term'] = pd.to_numeric(testdf['term'], errors='coerce')"
      ],
      "execution_count": 158,
      "outputs": []
    },
    {
      "cell_type": "code",
      "metadata": {
        "colab": {
          "base_uri": "https://localhost:8080/",
          "height": 593
        },
        "id": "eAwe9z5CLveL",
        "outputId": "6c741c0c-ef3c-4201-e9fa-f84ff4ca74bb"
      },
      "source": [
        "df"
      ],
      "execution_count": 159,
      "outputs": [
        {
          "output_type": "execute_result",
          "data": {
            "text/html": [
              "<div>\n",
              "<style scoped>\n",
              "    .dataframe tbody tr th:only-of-type {\n",
              "        vertical-align: middle;\n",
              "    }\n",
              "\n",
              "    .dataframe tbody tr th {\n",
              "        vertical-align: top;\n",
              "    }\n",
              "\n",
              "    .dataframe thead th {\n",
              "        text-align: right;\n",
              "    }\n",
              "</style>\n",
              "<table border=\"1\" class=\"dataframe\">\n",
              "  <thead>\n",
              "    <tr style=\"text-align: right;\">\n",
              "      <th></th>\n",
              "      <th>member_id</th>\n",
              "      <th>loan_amnt</th>\n",
              "      <th>term</th>\n",
              "      <th>int_rate</th>\n",
              "      <th>grade</th>\n",
              "      <th>sub_grade</th>\n",
              "      <th>emp_length</th>\n",
              "      <th>home_ownership</th>\n",
              "      <th>annual_inc</th>\n",
              "      <th>verification_status</th>\n",
              "      <th>pymnt_plan</th>\n",
              "      <th>purpose</th>\n",
              "      <th>dti</th>\n",
              "      <th>delinq_2yrs</th>\n",
              "      <th>inq_last_6mths</th>\n",
              "      <th>mths_since_last_delinq</th>\n",
              "      <th>mths_since_last_record</th>\n",
              "      <th>open_acc</th>\n",
              "      <th>pub_rec</th>\n",
              "      <th>revol_bal</th>\n",
              "      <th>revol_util</th>\n",
              "      <th>total_acc</th>\n",
              "      <th>initial_list_status</th>\n",
              "      <th>total_rec_int</th>\n",
              "      <th>total_rec_late_fee</th>\n",
              "      <th>recoveries</th>\n",
              "      <th>collections_12_mths_ex_med</th>\n",
              "      <th>mths_since_last_major_derog</th>\n",
              "      <th>application_type</th>\n",
              "      <th>verification_status_joint</th>\n",
              "      <th>last_week_pay</th>\n",
              "      <th>acc_now_delinq</th>\n",
              "      <th>tot_coll_amt</th>\n",
              "      <th>tot_cur_bal</th>\n",
              "      <th>loan_status</th>\n",
              "    </tr>\n",
              "  </thead>\n",
              "  <tbody>\n",
              "    <tr>\n",
              "      <th>0</th>\n",
              "      <td>58189336</td>\n",
              "      <td>14350</td>\n",
              "      <td>36 months</td>\n",
              "      <td>19.19</td>\n",
              "      <td>E</td>\n",
              "      <td>43</td>\n",
              "      <td>9.0</td>\n",
              "      <td>OWN</td>\n",
              "      <td>28700.0</td>\n",
              "      <td>Source Verified</td>\n",
              "      <td>n</td>\n",
              "      <td>debt_consolidation</td>\n",
              "      <td>33.88</td>\n",
              "      <td>0.0</td>\n",
              "      <td>1.0</td>\n",
              "      <td>50.0</td>\n",
              "      <td>75.0</td>\n",
              "      <td>14.0</td>\n",
              "      <td>1.0</td>\n",
              "      <td>22515.0</td>\n",
              "      <td>73.1</td>\n",
              "      <td>28.0</td>\n",
              "      <td>f</td>\n",
              "      <td>1173.84</td>\n",
              "      <td>0.0</td>\n",
              "      <td>0.0</td>\n",
              "      <td>0.0</td>\n",
              "      <td>74.0</td>\n",
              "      <td>INDIVIDUAL</td>\n",
              "      <td>NaN</td>\n",
              "      <td>26.0</td>\n",
              "      <td>0.0</td>\n",
              "      <td>0.0</td>\n",
              "      <td>28699.0</td>\n",
              "      <td>0</td>\n",
              "    </tr>\n",
              "    <tr>\n",
              "      <th>1</th>\n",
              "      <td>70011223</td>\n",
              "      <td>4800</td>\n",
              "      <td>36 months</td>\n",
              "      <td>10.99</td>\n",
              "      <td>B</td>\n",
              "      <td>14</td>\n",
              "      <td>0.0</td>\n",
              "      <td>MORTGAGE</td>\n",
              "      <td>65000.0</td>\n",
              "      <td>Source Verified</td>\n",
              "      <td>n</td>\n",
              "      <td>home_improvement</td>\n",
              "      <td>3.64</td>\n",
              "      <td>0.0</td>\n",
              "      <td>1.0</td>\n",
              "      <td>NaN</td>\n",
              "      <td>NaN</td>\n",
              "      <td>6.0</td>\n",
              "      <td>0.0</td>\n",
              "      <td>7624.0</td>\n",
              "      <td>23.2</td>\n",
              "      <td>13.0</td>\n",
              "      <td>w</td>\n",
              "      <td>83.95</td>\n",
              "      <td>0.0</td>\n",
              "      <td>0.0</td>\n",
              "      <td>0.0</td>\n",
              "      <td>NaN</td>\n",
              "      <td>INDIVIDUAL</td>\n",
              "      <td>NaN</td>\n",
              "      <td>9.0</td>\n",
              "      <td>0.0</td>\n",
              "      <td>0.0</td>\n",
              "      <td>9974.0</td>\n",
              "      <td>0</td>\n",
              "    </tr>\n",
              "    <tr>\n",
              "      <th>2</th>\n",
              "      <td>70255675</td>\n",
              "      <td>10000</td>\n",
              "      <td>36 months</td>\n",
              "      <td>7.26</td>\n",
              "      <td>A</td>\n",
              "      <td>4</td>\n",
              "      <td>2.0</td>\n",
              "      <td>OWN</td>\n",
              "      <td>45000.0</td>\n",
              "      <td>Not Verified</td>\n",
              "      <td>n</td>\n",
              "      <td>debt_consolidation</td>\n",
              "      <td>18.42</td>\n",
              "      <td>0.0</td>\n",
              "      <td>0.0</td>\n",
              "      <td>NaN</td>\n",
              "      <td>NaN</td>\n",
              "      <td>5.0</td>\n",
              "      <td>0.0</td>\n",
              "      <td>10877.0</td>\n",
              "      <td>31.2</td>\n",
              "      <td>19.0</td>\n",
              "      <td>w</td>\n",
              "      <td>56.47</td>\n",
              "      <td>0.0</td>\n",
              "      <td>0.0</td>\n",
              "      <td>0.0</td>\n",
              "      <td>NaN</td>\n",
              "      <td>INDIVIDUAL</td>\n",
              "      <td>NaN</td>\n",
              "      <td>9.0</td>\n",
              "      <td>0.0</td>\n",
              "      <td>65.0</td>\n",
              "      <td>38295.0</td>\n",
              "      <td>0</td>\n",
              "    </tr>\n",
              "    <tr>\n",
              "      <th>3</th>\n",
              "      <td>1893936</td>\n",
              "      <td>15000</td>\n",
              "      <td>36 months</td>\n",
              "      <td>19.72</td>\n",
              "      <td>D</td>\n",
              "      <td>35</td>\n",
              "      <td>10.0</td>\n",
              "      <td>RENT</td>\n",
              "      <td>105000.0</td>\n",
              "      <td>Not Verified</td>\n",
              "      <td>n</td>\n",
              "      <td>debt_consolidation</td>\n",
              "      <td>14.97</td>\n",
              "      <td>0.0</td>\n",
              "      <td>2.0</td>\n",
              "      <td>46.0</td>\n",
              "      <td>NaN</td>\n",
              "      <td>10.0</td>\n",
              "      <td>0.0</td>\n",
              "      <td>13712.0</td>\n",
              "      <td>55.5</td>\n",
              "      <td>21.0</td>\n",
              "      <td>f</td>\n",
              "      <td>4858.62</td>\n",
              "      <td>0.0</td>\n",
              "      <td>0.0</td>\n",
              "      <td>0.0</td>\n",
              "      <td>NaN</td>\n",
              "      <td>INDIVIDUAL</td>\n",
              "      <td>NaN</td>\n",
              "      <td>135.0</td>\n",
              "      <td>0.0</td>\n",
              "      <td>0.0</td>\n",
              "      <td>55564.0</td>\n",
              "      <td>0</td>\n",
              "    </tr>\n",
              "    <tr>\n",
              "      <th>4</th>\n",
              "      <td>7652106</td>\n",
              "      <td>16000</td>\n",
              "      <td>36 months</td>\n",
              "      <td>10.64</td>\n",
              "      <td>B</td>\n",
              "      <td>12</td>\n",
              "      <td>10.0</td>\n",
              "      <td>RENT</td>\n",
              "      <td>52000.0</td>\n",
              "      <td>Verified</td>\n",
              "      <td>n</td>\n",
              "      <td>credit_card</td>\n",
              "      <td>20.16</td>\n",
              "      <td>0.0</td>\n",
              "      <td>0.0</td>\n",
              "      <td>NaN</td>\n",
              "      <td>NaN</td>\n",
              "      <td>11.0</td>\n",
              "      <td>0.0</td>\n",
              "      <td>35835.0</td>\n",
              "      <td>76.2</td>\n",
              "      <td>27.0</td>\n",
              "      <td>w</td>\n",
              "      <td>2296.41</td>\n",
              "      <td>0.0</td>\n",
              "      <td>0.0</td>\n",
              "      <td>0.0</td>\n",
              "      <td>NaN</td>\n",
              "      <td>INDIVIDUAL</td>\n",
              "      <td>NaN</td>\n",
              "      <td>96.0</td>\n",
              "      <td>0.0</td>\n",
              "      <td>0.0</td>\n",
              "      <td>47159.0</td>\n",
              "      <td>0</td>\n",
              "    </tr>\n",
              "    <tr>\n",
              "      <th>...</th>\n",
              "      <td>...</td>\n",
              "      <td>...</td>\n",
              "      <td>...</td>\n",
              "      <td>...</td>\n",
              "      <td>...</td>\n",
              "      <td>...</td>\n",
              "      <td>...</td>\n",
              "      <td>...</td>\n",
              "      <td>...</td>\n",
              "      <td>...</td>\n",
              "      <td>...</td>\n",
              "      <td>...</td>\n",
              "      <td>...</td>\n",
              "      <td>...</td>\n",
              "      <td>...</td>\n",
              "      <td>...</td>\n",
              "      <td>...</td>\n",
              "      <td>...</td>\n",
              "      <td>...</td>\n",
              "      <td>...</td>\n",
              "      <td>...</td>\n",
              "      <td>...</td>\n",
              "      <td>...</td>\n",
              "      <td>...</td>\n",
              "      <td>...</td>\n",
              "      <td>...</td>\n",
              "      <td>...</td>\n",
              "      <td>...</td>\n",
              "      <td>...</td>\n",
              "      <td>...</td>\n",
              "      <td>...</td>\n",
              "      <td>...</td>\n",
              "      <td>...</td>\n",
              "      <td>...</td>\n",
              "      <td>...</td>\n",
              "    </tr>\n",
              "    <tr>\n",
              "      <th>532423</th>\n",
              "      <td>31296187</td>\n",
              "      <td>20000</td>\n",
              "      <td>36 months</td>\n",
              "      <td>12.49</td>\n",
              "      <td>B</td>\n",
              "      <td>15</td>\n",
              "      <td>10.0</td>\n",
              "      <td>MORTGAGE</td>\n",
              "      <td>75000.0</td>\n",
              "      <td>Source Verified</td>\n",
              "      <td>n</td>\n",
              "      <td>debt_consolidation</td>\n",
              "      <td>14.53</td>\n",
              "      <td>0.0</td>\n",
              "      <td>0.0</td>\n",
              "      <td>NaN</td>\n",
              "      <td>51.0</td>\n",
              "      <td>12.0</td>\n",
              "      <td>1.0</td>\n",
              "      <td>15775.0</td>\n",
              "      <td>63.6</td>\n",
              "      <td>34.0</td>\n",
              "      <td>f</td>\n",
              "      <td>2595.45</td>\n",
              "      <td>0.0</td>\n",
              "      <td>0.0</td>\n",
              "      <td>0.0</td>\n",
              "      <td>NaN</td>\n",
              "      <td>INDIVIDUAL</td>\n",
              "      <td>NaN</td>\n",
              "      <td>65.0</td>\n",
              "      <td>0.0</td>\n",
              "      <td>0.0</td>\n",
              "      <td>83087.0</td>\n",
              "      <td>0</td>\n",
              "    </tr>\n",
              "    <tr>\n",
              "      <th>532424</th>\n",
              "      <td>29403184</td>\n",
              "      <td>12000</td>\n",
              "      <td>60 months</td>\n",
              "      <td>14.99</td>\n",
              "      <td>C</td>\n",
              "      <td>25</td>\n",
              "      <td>10.0</td>\n",
              "      <td>MORTGAGE</td>\n",
              "      <td>59000.0</td>\n",
              "      <td>Not Verified</td>\n",
              "      <td>n</td>\n",
              "      <td>debt_consolidation</td>\n",
              "      <td>22.97</td>\n",
              "      <td>0.0</td>\n",
              "      <td>0.0</td>\n",
              "      <td>NaN</td>\n",
              "      <td>81.0</td>\n",
              "      <td>10.0</td>\n",
              "      <td>1.0</td>\n",
              "      <td>9453.0</td>\n",
              "      <td>53.1</td>\n",
              "      <td>29.0</td>\n",
              "      <td>w</td>\n",
              "      <td>2182.92</td>\n",
              "      <td>0.0</td>\n",
              "      <td>0.0</td>\n",
              "      <td>0.0</td>\n",
              "      <td>NaN</td>\n",
              "      <td>INDIVIDUAL</td>\n",
              "      <td>NaN</td>\n",
              "      <td>70.0</td>\n",
              "      <td>0.0</td>\n",
              "      <td>0.0</td>\n",
              "      <td>227812.0</td>\n",
              "      <td>0</td>\n",
              "    </tr>\n",
              "    <tr>\n",
              "      <th>532425</th>\n",
              "      <td>7357607</td>\n",
              "      <td>18725</td>\n",
              "      <td>60 months</td>\n",
              "      <td>20.80</td>\n",
              "      <td>E</td>\n",
              "      <td>41</td>\n",
              "      <td>8.0</td>\n",
              "      <td>RENT</td>\n",
              "      <td>42504.0</td>\n",
              "      <td>Verified</td>\n",
              "      <td>n</td>\n",
              "      <td>debt_consolidation</td>\n",
              "      <td>27.27</td>\n",
              "      <td>0.0</td>\n",
              "      <td>1.0</td>\n",
              "      <td>26.0</td>\n",
              "      <td>NaN</td>\n",
              "      <td>14.0</td>\n",
              "      <td>0.0</td>\n",
              "      <td>12085.0</td>\n",
              "      <td>49.9</td>\n",
              "      <td>26.0</td>\n",
              "      <td>f</td>\n",
              "      <td>645.32</td>\n",
              "      <td>0.0</td>\n",
              "      <td>0.0</td>\n",
              "      <td>0.0</td>\n",
              "      <td>NaN</td>\n",
              "      <td>INDIVIDUAL</td>\n",
              "      <td>NaN</td>\n",
              "      <td>9.0</td>\n",
              "      <td>0.0</td>\n",
              "      <td>0.0</td>\n",
              "      <td>26010.0</td>\n",
              "      <td>1</td>\n",
              "    </tr>\n",
              "    <tr>\n",
              "      <th>532426</th>\n",
              "      <td>23182668</td>\n",
              "      <td>21000</td>\n",
              "      <td>60 months</td>\n",
              "      <td>16.29</td>\n",
              "      <td>D</td>\n",
              "      <td>32</td>\n",
              "      <td>1.0</td>\n",
              "      <td>RENT</td>\n",
              "      <td>50000.0</td>\n",
              "      <td>Source Verified</td>\n",
              "      <td>n</td>\n",
              "      <td>credit_card</td>\n",
              "      <td>14.91</td>\n",
              "      <td>0.0</td>\n",
              "      <td>1.0</td>\n",
              "      <td>NaN</td>\n",
              "      <td>NaN</td>\n",
              "      <td>7.0</td>\n",
              "      <td>0.0</td>\n",
              "      <td>20902.0</td>\n",
              "      <td>89.7</td>\n",
              "      <td>14.0</td>\n",
              "      <td>w</td>\n",
              "      <td>4619.79</td>\n",
              "      <td>0.0</td>\n",
              "      <td>0.0</td>\n",
              "      <td>0.0</td>\n",
              "      <td>NaN</td>\n",
              "      <td>INDIVIDUAL</td>\n",
              "      <td>NaN</td>\n",
              "      <td>78.0</td>\n",
              "      <td>0.0</td>\n",
              "      <td>0.0</td>\n",
              "      <td>29197.0</td>\n",
              "      <td>0</td>\n",
              "    </tr>\n",
              "    <tr>\n",
              "      <th>532427</th>\n",
              "      <td>46122259</td>\n",
              "      <td>10000</td>\n",
              "      <td>36 months</td>\n",
              "      <td>6.39</td>\n",
              "      <td>A</td>\n",
              "      <td>2</td>\n",
              "      <td>0.0</td>\n",
              "      <td>RENT</td>\n",
              "      <td>53000.0</td>\n",
              "      <td>Not Verified</td>\n",
              "      <td>n</td>\n",
              "      <td>debt_consolidation</td>\n",
              "      <td>17.80</td>\n",
              "      <td>0.0</td>\n",
              "      <td>0.0</td>\n",
              "      <td>NaN</td>\n",
              "      <td>NaN</td>\n",
              "      <td>11.0</td>\n",
              "      <td>0.0</td>\n",
              "      <td>10058.0</td>\n",
              "      <td>46.4</td>\n",
              "      <td>20.0</td>\n",
              "      <td>f</td>\n",
              "      <td>467.52</td>\n",
              "      <td>0.0</td>\n",
              "      <td>0.0</td>\n",
              "      <td>0.0</td>\n",
              "      <td>NaN</td>\n",
              "      <td>INDIVIDUAL</td>\n",
              "      <td>NaN</td>\n",
              "      <td>44.0</td>\n",
              "      <td>0.0</td>\n",
              "      <td>0.0</td>\n",
              "      <td>47866.0</td>\n",
              "      <td>0</td>\n",
              "    </tr>\n",
              "  </tbody>\n",
              "</table>\n",
              "<p>532428 rows × 35 columns</p>\n",
              "</div>"
            ],
            "text/plain": [
              "        member_id  loan_amnt       term  ...  tot_coll_amt tot_cur_bal  loan_status\n",
              "0        58189336      14350  36 months  ...           0.0     28699.0            0\n",
              "1        70011223       4800  36 months  ...           0.0      9974.0            0\n",
              "2        70255675      10000  36 months  ...          65.0     38295.0            0\n",
              "3         1893936      15000  36 months  ...           0.0     55564.0            0\n",
              "4         7652106      16000  36 months  ...           0.0     47159.0            0\n",
              "...           ...        ...        ...  ...           ...         ...          ...\n",
              "532423   31296187      20000  36 months  ...           0.0     83087.0            0\n",
              "532424   29403184      12000  60 months  ...           0.0    227812.0            0\n",
              "532425    7357607      18725  60 months  ...           0.0     26010.0            1\n",
              "532426   23182668      21000  60 months  ...           0.0     29197.0            0\n",
              "532427   46122259      10000  36 months  ...           0.0     47866.0            0\n",
              "\n",
              "[532428 rows x 35 columns]"
            ]
          },
          "metadata": {
            "tags": []
          },
          "execution_count": 159
        }
      ]
    },
    {
      "cell_type": "code",
      "metadata": {
        "id": "Dyy_caZds9sK"
      },
      "source": [
        "df['term']=df['term'].replace('36 months',1)\n",
        "df['term']=df['term'].replace('60 months',2)"
      ],
      "execution_count": 160,
      "outputs": []
    },
    {
      "cell_type": "code",
      "metadata": {
        "id": "vZWcpHfyLX80"
      },
      "source": [
        "columns = ['term', 'loan_amnt', 'last_week_pay', 'int_rate', 'sub_grade',\n",
        "           'annual_inc', 'dti', 'mths_since_last_delinq', 'mths_since_last_record', 'open_acc',\n",
        "           'revol_bal', 'revol_util', 'total_acc', 'total_rec_int', 'mths_since_last_major_derog', \n",
        "           'tot_coll_amt', 'tot_cur_bal', 'emp_length']\n",
        "for col in columns:\n",
        "      #print(df[col].median())\n",
        "      df[col].fillna(df[col].median(), inplace=True)  \n",
        "\n",
        "  \n",
        "num_cols = ['acc_now_delinq', 'total_rec_late_fee', 'recoveries', 'collections_12_mths_ex_med']\n",
        "for col in num_cols:\n",
        "    df[col].fillna(0, inplace=True)       "
      ],
      "execution_count": 161,
      "outputs": []
    },
    {
      "cell_type": "code",
      "metadata": {
        "id": "9-5W4jfJnRoQ"
      },
      "source": [
        "columns = ['term', 'loan_amnt', 'last_week_pay', 'int_rate', 'sub_grade',\n",
        "           'annual_inc', 'dti', 'mths_since_last_delinq', 'mths_since_last_record', 'open_acc',\n",
        "           'revol_bal', 'revol_util', 'total_acc', 'total_rec_int', 'mths_since_last_major_derog', \n",
        "           'tot_coll_amt', 'tot_cur_bal', 'emp_length']\n",
        "for col in columns:\n",
        "    testdf[col].fillna(testdf[col].median(), inplace=True)  \n",
        "\n",
        "  \n",
        "num_cols = ['acc_now_delinq', 'total_rec_late_fee', 'recoveries', 'collections_12_mths_ex_med']\n",
        "for col in num_cols:\n",
        "    testdf[col].fillna(0, inplace=True) "
      ],
      "execution_count": 162,
      "outputs": []
    },
    {
      "cell_type": "code",
      "metadata": {
        "colab": {
          "base_uri": "https://localhost:8080/"
        },
        "id": "jznTanIKLhJe",
        "outputId": "05128e78-5f0c-471b-d4d6-d84eafa26379"
      },
      "source": [
        "df.isnull().sum() "
      ],
      "execution_count": 163,
      "outputs": [
        {
          "output_type": "execute_result",
          "data": {
            "text/plain": [
              "member_id                           0\n",
              "loan_amnt                           0\n",
              "term                                0\n",
              "int_rate                            0\n",
              "grade                               0\n",
              "sub_grade                           0\n",
              "emp_length                          0\n",
              "home_ownership                      0\n",
              "annual_inc                          0\n",
              "verification_status                 0\n",
              "pymnt_plan                          0\n",
              "purpose                             0\n",
              "dti                                 0\n",
              "delinq_2yrs                        16\n",
              "inq_last_6mths                     16\n",
              "mths_since_last_delinq              0\n",
              "mths_since_last_record              0\n",
              "open_acc                            0\n",
              "pub_rec                            16\n",
              "revol_bal                           0\n",
              "revol_util                          0\n",
              "total_acc                           0\n",
              "initial_list_status                 0\n",
              "total_rec_int                       0\n",
              "total_rec_late_fee                  0\n",
              "recoveries                          0\n",
              "collections_12_mths_ex_med          0\n",
              "mths_since_last_major_derog         0\n",
              "application_type                    0\n",
              "verification_status_joint      532123\n",
              "last_week_pay                       0\n",
              "acc_now_delinq                      0\n",
              "tot_coll_amt                        0\n",
              "tot_cur_bal                         0\n",
              "loan_status                         0\n",
              "dtype: int64"
            ]
          },
          "metadata": {
            "tags": []
          },
          "execution_count": 163
        }
      ]
    },
    {
      "cell_type": "code",
      "metadata": {
        "id": "YkWmMV1BMG1M"
      },
      "source": [
        "# Converts categorical variable into dummy/indicator variables.\n",
        "cate_attr = ['home_ownership', 'purpose']\n",
        "for cat in cate_attr:\n",
        "   df_col = [cat]\n",
        "   df[cat] = df[cat].astype(\"category\")\n",
        "   df[cat] = pd.get_dummies(df, columns=df_col) "
      ],
      "execution_count": 164,
      "outputs": []
    },
    {
      "cell_type": "code",
      "metadata": {
        "id": "wPUa8LLQnX9Q"
      },
      "source": [
        "# Converts categorical variable into dummy/indicator variables.\n",
        "cate_attr = ['home_ownership', 'purpose']\n",
        "for cat in cate_attr:\n",
        "   testdf_col = [cat]\n",
        "   testdf[cat] = testdf[cat].astype(\"category\")\n",
        "   testdf[cat] = pd.get_dummies(testdf, columns=df_col) "
      ],
      "execution_count": 165,
      "outputs": []
    },
    {
      "cell_type": "code",
      "metadata": {
        "id": "ARl3u8OxMdaZ"
      },
      "source": [
        "final_df = df.copy()\n",
        "final_df = final_df.drop(['loan_status'], axis=1)  "
      ],
      "execution_count": 166,
      "outputs": []
    },
    {
      "cell_type": "code",
      "metadata": {
        "id": "ywlioEirnmAy"
      },
      "source": [
        "test_final_df = testdf.copy()\n"
      ],
      "execution_count": 167,
      "outputs": []
    },
    {
      "cell_type": "code",
      "metadata": {
        "id": "QEJhw3G5Mgvs"
      },
      "source": [
        "#convert string to num\n",
        "def convert(col):\n",
        "    ff= dict(zip(df[col].unique(), range(0,len(df[col].unique()))))\n",
        "    df[col] = df[col].map(ff , df[col])"
      ],
      "execution_count": 168,
      "outputs": []
    },
    {
      "cell_type": "code",
      "metadata": {
        "id": "woOL6OJgnrjh"
      },
      "source": [
        "strtonum=['verification_status_joint','application_type','initial_list_status','verification_status','pymnt_plan','purpose','home_ownership','grade']\n",
        "for x in (strtonum):\n",
        "    convert(x)"
      ],
      "execution_count": 169,
      "outputs": []
    },
    {
      "cell_type": "code",
      "metadata": {
        "colab": {
          "base_uri": "https://localhost:8080/",
          "height": 127
        },
        "id": "YeWmjAHIOjbq",
        "outputId": "c8e1d280-8780-4809-d00c-d943608730e5"
      },
      "source": [
        "df.head(2)"
      ],
      "execution_count": 170,
      "outputs": [
        {
          "output_type": "execute_result",
          "data": {
            "text/html": [
              "<div>\n",
              "<style scoped>\n",
              "    .dataframe tbody tr th:only-of-type {\n",
              "        vertical-align: middle;\n",
              "    }\n",
              "\n",
              "    .dataframe tbody tr th {\n",
              "        vertical-align: top;\n",
              "    }\n",
              "\n",
              "    .dataframe thead th {\n",
              "        text-align: right;\n",
              "    }\n",
              "</style>\n",
              "<table border=\"1\" class=\"dataframe\">\n",
              "  <thead>\n",
              "    <tr style=\"text-align: right;\">\n",
              "      <th></th>\n",
              "      <th>member_id</th>\n",
              "      <th>loan_amnt</th>\n",
              "      <th>term</th>\n",
              "      <th>int_rate</th>\n",
              "      <th>grade</th>\n",
              "      <th>sub_grade</th>\n",
              "      <th>emp_length</th>\n",
              "      <th>home_ownership</th>\n",
              "      <th>annual_inc</th>\n",
              "      <th>verification_status</th>\n",
              "      <th>pymnt_plan</th>\n",
              "      <th>purpose</th>\n",
              "      <th>dti</th>\n",
              "      <th>delinq_2yrs</th>\n",
              "      <th>inq_last_6mths</th>\n",
              "      <th>mths_since_last_delinq</th>\n",
              "      <th>mths_since_last_record</th>\n",
              "      <th>open_acc</th>\n",
              "      <th>pub_rec</th>\n",
              "      <th>revol_bal</th>\n",
              "      <th>revol_util</th>\n",
              "      <th>total_acc</th>\n",
              "      <th>initial_list_status</th>\n",
              "      <th>total_rec_int</th>\n",
              "      <th>total_rec_late_fee</th>\n",
              "      <th>recoveries</th>\n",
              "      <th>collections_12_mths_ex_med</th>\n",
              "      <th>mths_since_last_major_derog</th>\n",
              "      <th>application_type</th>\n",
              "      <th>verification_status_joint</th>\n",
              "      <th>last_week_pay</th>\n",
              "      <th>acc_now_delinq</th>\n",
              "      <th>tot_coll_amt</th>\n",
              "      <th>tot_cur_bal</th>\n",
              "      <th>loan_status</th>\n",
              "    </tr>\n",
              "  </thead>\n",
              "  <tbody>\n",
              "    <tr>\n",
              "      <th>0</th>\n",
              "      <td>58189336</td>\n",
              "      <td>14350</td>\n",
              "      <td>1</td>\n",
              "      <td>19.19</td>\n",
              "      <td>0</td>\n",
              "      <td>43</td>\n",
              "      <td>9.0</td>\n",
              "      <td>0</td>\n",
              "      <td>28700.0</td>\n",
              "      <td>0</td>\n",
              "      <td>0</td>\n",
              "      <td>0</td>\n",
              "      <td>33.88</td>\n",
              "      <td>0.0</td>\n",
              "      <td>1.0</td>\n",
              "      <td>50.0</td>\n",
              "      <td>75.0</td>\n",
              "      <td>14.0</td>\n",
              "      <td>1.0</td>\n",
              "      <td>22515.0</td>\n",
              "      <td>73.1</td>\n",
              "      <td>28.0</td>\n",
              "      <td>0</td>\n",
              "      <td>1173.84</td>\n",
              "      <td>0.0</td>\n",
              "      <td>0.0</td>\n",
              "      <td>0.0</td>\n",
              "      <td>74.0</td>\n",
              "      <td>0</td>\n",
              "      <td>0</td>\n",
              "      <td>26.0</td>\n",
              "      <td>0.0</td>\n",
              "      <td>0.0</td>\n",
              "      <td>28699.0</td>\n",
              "      <td>0</td>\n",
              "    </tr>\n",
              "    <tr>\n",
              "      <th>1</th>\n",
              "      <td>70011223</td>\n",
              "      <td>4800</td>\n",
              "      <td>1</td>\n",
              "      <td>10.99</td>\n",
              "      <td>1</td>\n",
              "      <td>14</td>\n",
              "      <td>0.0</td>\n",
              "      <td>1</td>\n",
              "      <td>65000.0</td>\n",
              "      <td>0</td>\n",
              "      <td>0</td>\n",
              "      <td>1</td>\n",
              "      <td>3.64</td>\n",
              "      <td>0.0</td>\n",
              "      <td>1.0</td>\n",
              "      <td>31.0</td>\n",
              "      <td>70.0</td>\n",
              "      <td>6.0</td>\n",
              "      <td>0.0</td>\n",
              "      <td>7624.0</td>\n",
              "      <td>23.2</td>\n",
              "      <td>13.0</td>\n",
              "      <td>1</td>\n",
              "      <td>83.95</td>\n",
              "      <td>0.0</td>\n",
              "      <td>0.0</td>\n",
              "      <td>0.0</td>\n",
              "      <td>44.0</td>\n",
              "      <td>0</td>\n",
              "      <td>0</td>\n",
              "      <td>9.0</td>\n",
              "      <td>0.0</td>\n",
              "      <td>0.0</td>\n",
              "      <td>9974.0</td>\n",
              "      <td>0</td>\n",
              "    </tr>\n",
              "  </tbody>\n",
              "</table>\n",
              "</div>"
            ],
            "text/plain": [
              "   member_id  loan_amnt  term  ...  tot_coll_amt  tot_cur_bal  loan_status\n",
              "0   58189336      14350     1  ...           0.0      28699.0            0\n",
              "1   70011223       4800     1  ...           0.0       9974.0            0\n",
              "\n",
              "[2 rows x 35 columns]"
            ]
          },
          "metadata": {
            "tags": []
          },
          "execution_count": 170
        }
      ]
    },
    {
      "cell_type": "code",
      "metadata": {
        "id": "Wpf3HbOon3Kh"
      },
      "source": [
        "#convert string to num\n",
        "def convert(col):\n",
        "    ff= dict(zip(testdf[col].unique(), range(0,len(testdf[col].unique()))))\n",
        "    testdf[col] = testdf[col].map(ff , testdf[col])"
      ],
      "execution_count": 171,
      "outputs": []
    },
    {
      "cell_type": "code",
      "metadata": {
        "id": "ilRfitV_nzQa"
      },
      "source": [
        "strtonum=['verification_status_joint','application_type','initial_list_status','verification_status','pymnt_plan','purpose','home_ownership','grade']\n",
        "for x in (strtonum):\n",
        "    convert(x)"
      ],
      "execution_count": 172,
      "outputs": []
    },
    {
      "cell_type": "code",
      "metadata": {
        "colab": {
          "base_uri": "https://localhost:8080/",
          "height": 127
        },
        "id": "hszmEb0UPCQ2",
        "outputId": "c1726d33-9227-43fe-a9c3-010b78201864"
      },
      "source": [
        "testdf.head(2)"
      ],
      "execution_count": 173,
      "outputs": [
        {
          "output_type": "execute_result",
          "data": {
            "text/html": [
              "<div>\n",
              "<style scoped>\n",
              "    .dataframe tbody tr th:only-of-type {\n",
              "        vertical-align: middle;\n",
              "    }\n",
              "\n",
              "    .dataframe tbody tr th {\n",
              "        vertical-align: top;\n",
              "    }\n",
              "\n",
              "    .dataframe thead th {\n",
              "        text-align: right;\n",
              "    }\n",
              "</style>\n",
              "<table border=\"1\" class=\"dataframe\">\n",
              "  <thead>\n",
              "    <tr style=\"text-align: right;\">\n",
              "      <th></th>\n",
              "      <th>member_id</th>\n",
              "      <th>loan_amnt</th>\n",
              "      <th>term</th>\n",
              "      <th>int_rate</th>\n",
              "      <th>grade</th>\n",
              "      <th>sub_grade</th>\n",
              "      <th>emp_length</th>\n",
              "      <th>home_ownership</th>\n",
              "      <th>annual_inc</th>\n",
              "      <th>verification_status</th>\n",
              "      <th>pymnt_plan</th>\n",
              "      <th>purpose</th>\n",
              "      <th>dti</th>\n",
              "      <th>delinq_2yrs</th>\n",
              "      <th>inq_last_6mths</th>\n",
              "      <th>mths_since_last_delinq</th>\n",
              "      <th>mths_since_last_record</th>\n",
              "      <th>open_acc</th>\n",
              "      <th>pub_rec</th>\n",
              "      <th>revol_bal</th>\n",
              "      <th>revol_util</th>\n",
              "      <th>total_acc</th>\n",
              "      <th>initial_list_status</th>\n",
              "      <th>total_rec_int</th>\n",
              "      <th>total_rec_late_fee</th>\n",
              "      <th>recoveries</th>\n",
              "      <th>collections_12_mths_ex_med</th>\n",
              "      <th>mths_since_last_major_derog</th>\n",
              "      <th>application_type</th>\n",
              "      <th>verification_status_joint</th>\n",
              "      <th>last_week_pay</th>\n",
              "      <th>acc_now_delinq</th>\n",
              "      <th>tot_coll_amt</th>\n",
              "      <th>tot_cur_bal</th>\n",
              "    </tr>\n",
              "  </thead>\n",
              "  <tbody>\n",
              "    <tr>\n",
              "      <th>0</th>\n",
              "      <td>11937648</td>\n",
              "      <td>14000</td>\n",
              "      <td>60</td>\n",
              "      <td>16.24</td>\n",
              "      <td>0</td>\n",
              "      <td>25</td>\n",
              "      <td>4.0</td>\n",
              "      <td>0</td>\n",
              "      <td>73500.0</td>\n",
              "      <td>0</td>\n",
              "      <td>0</td>\n",
              "      <td>0</td>\n",
              "      <td>28.65</td>\n",
              "      <td>1.0</td>\n",
              "      <td>1.0</td>\n",
              "      <td>20.0</td>\n",
              "      <td>70.0</td>\n",
              "      <td>16.0</td>\n",
              "      <td>0.0</td>\n",
              "      <td>29828</td>\n",
              "      <td>65.3</td>\n",
              "      <td>53.0</td>\n",
              "      <td>0</td>\n",
              "      <td>3915.61</td>\n",
              "      <td>0.0</td>\n",
              "      <td>0.0</td>\n",
              "      <td>0.0</td>\n",
              "      <td>44.0</td>\n",
              "      <td>0</td>\n",
              "      <td>0</td>\n",
              "      <td>104.0</td>\n",
              "      <td>0.0</td>\n",
              "      <td>0.0</td>\n",
              "      <td>85230.0</td>\n",
              "    </tr>\n",
              "    <tr>\n",
              "      <th>1</th>\n",
              "      <td>38983318</td>\n",
              "      <td>16000</td>\n",
              "      <td>60</td>\n",
              "      <td>9.49</td>\n",
              "      <td>1</td>\n",
              "      <td>12</td>\n",
              "      <td>5.0</td>\n",
              "      <td>1</td>\n",
              "      <td>105000.0</td>\n",
              "      <td>0</td>\n",
              "      <td>0</td>\n",
              "      <td>1</td>\n",
              "      <td>31.19</td>\n",
              "      <td>0.0</td>\n",
              "      <td>0.0</td>\n",
              "      <td>31.0</td>\n",
              "      <td>70.0</td>\n",
              "      <td>8.0</td>\n",
              "      <td>0.0</td>\n",
              "      <td>4161</td>\n",
              "      <td>19.4</td>\n",
              "      <td>63.0</td>\n",
              "      <td>1</td>\n",
              "      <td>1495.06</td>\n",
              "      <td>0.0</td>\n",
              "      <td>0.0</td>\n",
              "      <td>0.0</td>\n",
              "      <td>44.0</td>\n",
              "      <td>0</td>\n",
              "      <td>0</td>\n",
              "      <td>57.0</td>\n",
              "      <td>0.0</td>\n",
              "      <td>0.0</td>\n",
              "      <td>444991.0</td>\n",
              "    </tr>\n",
              "  </tbody>\n",
              "</table>\n",
              "</div>"
            ],
            "text/plain": [
              "   member_id  loan_amnt  term  ...  acc_now_delinq  tot_coll_amt  tot_cur_bal\n",
              "0   11937648      14000    60  ...             0.0           0.0      85230.0\n",
              "1   38983318      16000    60  ...             0.0           0.0     444991.0\n",
              "\n",
              "[2 rows x 34 columns]"
            ]
          },
          "metadata": {
            "tags": []
          },
          "execution_count": 173
        }
      ]
    },
    {
      "cell_type": "code",
      "metadata": {
        "colab": {
          "base_uri": "https://localhost:8080/"
        },
        "id": "pSPw5jzCPtnY",
        "outputId": "448302fb-1b7a-436a-9093-db4c637c4506"
      },
      "source": [
        "df.isnull().sum()"
      ],
      "execution_count": 174,
      "outputs": [
        {
          "output_type": "execute_result",
          "data": {
            "text/plain": [
              "member_id                       0\n",
              "loan_amnt                       0\n",
              "term                            0\n",
              "int_rate                        0\n",
              "grade                           0\n",
              "sub_grade                       0\n",
              "emp_length                      0\n",
              "home_ownership                  0\n",
              "annual_inc                      0\n",
              "verification_status             0\n",
              "pymnt_plan                      0\n",
              "purpose                         0\n",
              "dti                             0\n",
              "delinq_2yrs                    16\n",
              "inq_last_6mths                 16\n",
              "mths_since_last_delinq          0\n",
              "mths_since_last_record          0\n",
              "open_acc                        0\n",
              "pub_rec                        16\n",
              "revol_bal                       0\n",
              "revol_util                      0\n",
              "total_acc                       0\n",
              "initial_list_status             0\n",
              "total_rec_int                   0\n",
              "total_rec_late_fee              0\n",
              "recoveries                      0\n",
              "collections_12_mths_ex_med      0\n",
              "mths_since_last_major_derog     0\n",
              "application_type                0\n",
              "verification_status_joint       0\n",
              "last_week_pay                   0\n",
              "acc_now_delinq                  0\n",
              "tot_coll_amt                    0\n",
              "tot_cur_bal                     0\n",
              "loan_status                     0\n",
              "dtype: int64"
            ]
          },
          "metadata": {
            "tags": []
          },
          "execution_count": 174
        }
      ]
    },
    {
      "cell_type": "code",
      "metadata": {
        "colab": {
          "base_uri": "https://localhost:8080/"
        },
        "id": "f62885FQn9fg",
        "outputId": "62d3e1e9-cc54-4e40-9834-060832b6c94f"
      },
      "source": [
        "testdf.isnull().sum()"
      ],
      "execution_count": 175,
      "outputs": [
        {
          "output_type": "execute_result",
          "data": {
            "text/plain": [
              "member_id                       0\n",
              "loan_amnt                       0\n",
              "term                            0\n",
              "int_rate                        0\n",
              "grade                           0\n",
              "sub_grade                       0\n",
              "emp_length                      0\n",
              "home_ownership                  0\n",
              "annual_inc                      0\n",
              "verification_status             0\n",
              "pymnt_plan                      0\n",
              "purpose                         0\n",
              "dti                             0\n",
              "delinq_2yrs                    13\n",
              "inq_last_6mths                 13\n",
              "mths_since_last_delinq          0\n",
              "mths_since_last_record          0\n",
              "open_acc                        0\n",
              "pub_rec                        13\n",
              "revol_bal                       0\n",
              "revol_util                      0\n",
              "total_acc                       0\n",
              "initial_list_status             0\n",
              "total_rec_int                   0\n",
              "total_rec_late_fee              0\n",
              "recoveries                      0\n",
              "collections_12_mths_ex_med      0\n",
              "mths_since_last_major_derog     0\n",
              "application_type                0\n",
              "verification_status_joint       0\n",
              "last_week_pay                   0\n",
              "acc_now_delinq                  0\n",
              "tot_coll_amt                    0\n",
              "tot_cur_bal                     0\n",
              "dtype: int64"
            ]
          },
          "metadata": {
            "tags": []
          },
          "execution_count": 175
        }
      ]
    },
    {
      "cell_type": "code",
      "metadata": {
        "id": "36pvB1X3PDtk"
      },
      "source": [
        "for col in ['emp_length','mths_since_last_delinq','mths_since_last_record','revol_util','collections_12_mths_ex_med','mths_since_last_major_derog','last_week_pay','tot_coll_amt','tot_cur_bal']:\n",
        "    mod=int(df[col].mode())\n",
        "    df[col].fillna(mod, inplace=True) "
      ],
      "execution_count": 176,
      "outputs": []
    },
    {
      "cell_type": "code",
      "metadata": {
        "id": "A0fUTgJloDCL"
      },
      "source": [
        "for col in ['emp_length','mths_since_last_delinq','mths_since_last_record','revol_util','collections_12_mths_ex_med','mths_since_last_major_derog','last_week_pay','tot_coll_amt','tot_cur_bal']:\n",
        "    mod=int(testdf[col].mode())\n",
        "    testdf[col].fillna(mod, inplace=True) "
      ],
      "execution_count": 177,
      "outputs": []
    },
    {
      "cell_type": "code",
      "metadata": {
        "colab": {
          "base_uri": "https://localhost:8080/"
        },
        "id": "vpTnOUvoRovZ",
        "outputId": "a7040736-c00d-449a-b44e-d655f717665f"
      },
      "source": [
        "df.isnull().sum()"
      ],
      "execution_count": 178,
      "outputs": [
        {
          "output_type": "execute_result",
          "data": {
            "text/plain": [
              "member_id                       0\n",
              "loan_amnt                       0\n",
              "term                            0\n",
              "int_rate                        0\n",
              "grade                           0\n",
              "sub_grade                       0\n",
              "emp_length                      0\n",
              "home_ownership                  0\n",
              "annual_inc                      0\n",
              "verification_status             0\n",
              "pymnt_plan                      0\n",
              "purpose                         0\n",
              "dti                             0\n",
              "delinq_2yrs                    16\n",
              "inq_last_6mths                 16\n",
              "mths_since_last_delinq          0\n",
              "mths_since_last_record          0\n",
              "open_acc                        0\n",
              "pub_rec                        16\n",
              "revol_bal                       0\n",
              "revol_util                      0\n",
              "total_acc                       0\n",
              "initial_list_status             0\n",
              "total_rec_int                   0\n",
              "total_rec_late_fee              0\n",
              "recoveries                      0\n",
              "collections_12_mths_ex_med      0\n",
              "mths_since_last_major_derog     0\n",
              "application_type                0\n",
              "verification_status_joint       0\n",
              "last_week_pay                   0\n",
              "acc_now_delinq                  0\n",
              "tot_coll_amt                    0\n",
              "tot_cur_bal                     0\n",
              "loan_status                     0\n",
              "dtype: int64"
            ]
          },
          "metadata": {
            "tags": []
          },
          "execution_count": 178
        }
      ]
    },
    {
      "cell_type": "code",
      "metadata": {
        "colab": {
          "base_uri": "https://localhost:8080/"
        },
        "id": "VWkORETGoGXb",
        "outputId": "6e0141d0-7dc9-4d6c-a3c1-32ea0000c628"
      },
      "source": [
        "testdf.isnull().sum()"
      ],
      "execution_count": 179,
      "outputs": [
        {
          "output_type": "execute_result",
          "data": {
            "text/plain": [
              "member_id                       0\n",
              "loan_amnt                       0\n",
              "term                            0\n",
              "int_rate                        0\n",
              "grade                           0\n",
              "sub_grade                       0\n",
              "emp_length                      0\n",
              "home_ownership                  0\n",
              "annual_inc                      0\n",
              "verification_status             0\n",
              "pymnt_plan                      0\n",
              "purpose                         0\n",
              "dti                             0\n",
              "delinq_2yrs                    13\n",
              "inq_last_6mths                 13\n",
              "mths_since_last_delinq          0\n",
              "mths_since_last_record          0\n",
              "open_acc                        0\n",
              "pub_rec                        13\n",
              "revol_bal                       0\n",
              "revol_util                      0\n",
              "total_acc                       0\n",
              "initial_list_status             0\n",
              "total_rec_int                   0\n",
              "total_rec_late_fee              0\n",
              "recoveries                      0\n",
              "collections_12_mths_ex_med      0\n",
              "mths_since_last_major_derog     0\n",
              "application_type                0\n",
              "verification_status_joint       0\n",
              "last_week_pay                   0\n",
              "acc_now_delinq                  0\n",
              "tot_coll_amt                    0\n",
              "tot_cur_bal                     0\n",
              "dtype: int64"
            ]
          },
          "metadata": {
            "tags": []
          },
          "execution_count": 179
        }
      ]
    },
    {
      "cell_type": "code",
      "metadata": {
        "id": "newzWklSRrPI"
      },
      "source": [
        "df = df.dropna(axis=0, subset=['delinq_2yrs'])\n",
        "testdf = testdf.dropna(axis=0, subset=['delinq_2yrs'])"
      ],
      "execution_count": 180,
      "outputs": []
    },
    {
      "cell_type": "code",
      "metadata": {
        "colab": {
          "base_uri": "https://localhost:8080/"
        },
        "id": "MSwjl1CVIMWd",
        "outputId": "53d0c2bd-31a9-4093-a2e4-d8ebba9d1398"
      },
      "source": [
        "df.isnull().sum()"
      ],
      "execution_count": 181,
      "outputs": [
        {
          "output_type": "execute_result",
          "data": {
            "text/plain": [
              "member_id                      0\n",
              "loan_amnt                      0\n",
              "term                           0\n",
              "int_rate                       0\n",
              "grade                          0\n",
              "sub_grade                      0\n",
              "emp_length                     0\n",
              "home_ownership                 0\n",
              "annual_inc                     0\n",
              "verification_status            0\n",
              "pymnt_plan                     0\n",
              "purpose                        0\n",
              "dti                            0\n",
              "delinq_2yrs                    0\n",
              "inq_last_6mths                 0\n",
              "mths_since_last_delinq         0\n",
              "mths_since_last_record         0\n",
              "open_acc                       0\n",
              "pub_rec                        0\n",
              "revol_bal                      0\n",
              "revol_util                     0\n",
              "total_acc                      0\n",
              "initial_list_status            0\n",
              "total_rec_int                  0\n",
              "total_rec_late_fee             0\n",
              "recoveries                     0\n",
              "collections_12_mths_ex_med     0\n",
              "mths_since_last_major_derog    0\n",
              "application_type               0\n",
              "verification_status_joint      0\n",
              "last_week_pay                  0\n",
              "acc_now_delinq                 0\n",
              "tot_coll_amt                   0\n",
              "tot_cur_bal                    0\n",
              "loan_status                    0\n",
              "dtype: int64"
            ]
          },
          "metadata": {
            "tags": []
          },
          "execution_count": 181
        }
      ]
    },
    {
      "cell_type": "code",
      "metadata": {
        "colab": {
          "base_uri": "https://localhost:8080/"
        },
        "id": "QpdzYh0PoONX",
        "outputId": "5fb6bf30-2611-4bb4-d7d8-3809d5cb0977"
      },
      "source": [
        "testdf.isnull().sum()"
      ],
      "execution_count": 182,
      "outputs": [
        {
          "output_type": "execute_result",
          "data": {
            "text/plain": [
              "member_id                      0\n",
              "loan_amnt                      0\n",
              "term                           0\n",
              "int_rate                       0\n",
              "grade                          0\n",
              "sub_grade                      0\n",
              "emp_length                     0\n",
              "home_ownership                 0\n",
              "annual_inc                     0\n",
              "verification_status            0\n",
              "pymnt_plan                     0\n",
              "purpose                        0\n",
              "dti                            0\n",
              "delinq_2yrs                    0\n",
              "inq_last_6mths                 0\n",
              "mths_since_last_delinq         0\n",
              "mths_since_last_record         0\n",
              "open_acc                       0\n",
              "pub_rec                        0\n",
              "revol_bal                      0\n",
              "revol_util                     0\n",
              "total_acc                      0\n",
              "initial_list_status            0\n",
              "total_rec_int                  0\n",
              "total_rec_late_fee             0\n",
              "recoveries                     0\n",
              "collections_12_mths_ex_med     0\n",
              "mths_since_last_major_derog    0\n",
              "application_type               0\n",
              "verification_status_joint      0\n",
              "last_week_pay                  0\n",
              "acc_now_delinq                 0\n",
              "tot_coll_amt                   0\n",
              "tot_cur_bal                    0\n",
              "dtype: int64"
            ]
          },
          "metadata": {
            "tags": []
          },
          "execution_count": 182
        }
      ]
    },
    {
      "cell_type": "code",
      "metadata": {
        "id": "BEt6YDsNIOWi"
      },
      "source": [
        "X=df.drop('loan_status',axis=1)"
      ],
      "execution_count": 183,
      "outputs": []
    },
    {
      "cell_type": "code",
      "metadata": {
        "id": "oM1f8D93IeRY"
      },
      "source": [
        "y=df['loan_status']"
      ],
      "execution_count": 184,
      "outputs": []
    },
    {
      "cell_type": "code",
      "metadata": {
        "id": "pePoHEQ-IiyT"
      },
      "source": [
        "from sklearn.model_selection import train_test_split\n",
        "import numpy as np\n",
        "X_train, X_test, y_train, y_test = train_test_split(X, y, test_size=0.30) "
      ],
      "execution_count": 185,
      "outputs": []
    },
    {
      "cell_type": "code",
      "metadata": {
        "id": "tqW_8WHlIngx"
      },
      "source": [
        "import matplotlib.pyplot as plt\n",
        "from sklearn.linear_model import LogisticRegression\n",
        "from sklearn.metrics import classification_report, confusion_matrix"
      ],
      "execution_count": 186,
      "outputs": []
    },
    {
      "cell_type": "code",
      "metadata": {
        "colab": {
          "base_uri": "https://localhost:8080/"
        },
        "id": "kVkoGV17I-b4",
        "outputId": "15f1de10-1c11-4b57-ab35-ada1060c5303"
      },
      "source": [
        "LogisticRegression(C=1.0, class_weight=None, dual=False, fit_intercept=True,\n",
        "                   intercept_scaling=1, l1_ratio=None, max_iter=100,\n",
        "                   multi_class='warn', n_jobs=None, penalty='l2',\n",
        "                   random_state=0, solver='liblinear', tol=0.0001, verbose=0,\n",
        "                   warm_start=False)"
      ],
      "execution_count": 187,
      "outputs": [
        {
          "output_type": "execute_result",
          "data": {
            "text/plain": [
              "LogisticRegression(C=1.0, class_weight=None, dual=False, fit_intercept=True,\n",
              "                   intercept_scaling=1, l1_ratio=None, max_iter=100,\n",
              "                   multi_class='warn', n_jobs=None, penalty='l2',\n",
              "                   random_state=0, solver='liblinear', tol=0.0001, verbose=0,\n",
              "                   warm_start=False)"
            ]
          },
          "metadata": {
            "tags": []
          },
          "execution_count": 187
        }
      ]
    },
    {
      "cell_type": "code",
      "metadata": {
        "id": "EMZzGr0BJAJ1"
      },
      "source": [
        "model = LogisticRegression(solver='liblinear', random_state=0).fit(X_train, y_train)"
      ],
      "execution_count": 188,
      "outputs": []
    },
    {
      "cell_type": "code",
      "metadata": {
        "id": "fM3EIYZlKym_"
      },
      "source": [
        "y_pred=model.predict(X_test)"
      ],
      "execution_count": 189,
      "outputs": []
    },
    {
      "cell_type": "code",
      "metadata": {
        "colab": {
          "base_uri": "https://localhost:8080/"
        },
        "id": "pNxYjl4XgfVN",
        "outputId": "587afbbd-001b-43a0-adf4-6f913646f690"
      },
      "source": [
        "X_train.shape"
      ],
      "execution_count": 190,
      "outputs": [
        {
          "output_type": "execute_result",
          "data": {
            "text/plain": [
              "(372688, 34)"
            ]
          },
          "metadata": {
            "tags": []
          },
          "execution_count": 190
        }
      ]
    },
    {
      "cell_type": "code",
      "metadata": {
        "colab": {
          "base_uri": "https://localhost:8080/"
        },
        "id": "40uhxKOBghEw",
        "outputId": "35c48397-d0e4-4d38-952f-d32035de73ad"
      },
      "source": [
        "X_test.shape"
      ],
      "execution_count": 191,
      "outputs": [
        {
          "output_type": "execute_result",
          "data": {
            "text/plain": [
              "(159724, 34)"
            ]
          },
          "metadata": {
            "tags": []
          },
          "execution_count": 191
        }
      ]
    },
    {
      "cell_type": "code",
      "metadata": {
        "colab": {
          "base_uri": "https://localhost:8080/"
        },
        "id": "G5aQM2o7ghH8",
        "outputId": "11fc188e-23bb-485c-8eed-53a1d9395847"
      },
      "source": [
        "y_train.shape"
      ],
      "execution_count": 192,
      "outputs": [
        {
          "output_type": "execute_result",
          "data": {
            "text/plain": [
              "(372688,)"
            ]
          },
          "metadata": {
            "tags": []
          },
          "execution_count": 192
        }
      ]
    },
    {
      "cell_type": "code",
      "metadata": {
        "colab": {
          "base_uri": "https://localhost:8080/"
        },
        "id": "vxVTHvb_1R1a",
        "outputId": "1a686958-7c32-4b30-e45b-8c8e21317f02"
      },
      "source": [
        "  from sklearn.metrics import roc_auc_score,roc_curve,auc\n",
        "  roc_auc_score(y_test, y_pred, average=None)"
      ],
      "execution_count": 193,
      "outputs": [
        {
          "output_type": "execute_result",
          "data": {
            "text/plain": [
              "0.6888479586436564"
            ]
          },
          "metadata": {
            "tags": []
          },
          "execution_count": 193
        }
      ]
    },
    {
      "cell_type": "code",
      "metadata": {
        "id": "dqmtJNU6uv7Y"
      },
      "source": [
        "y_pred_test=model.predict(testdf)"
      ],
      "execution_count": 194,
      "outputs": []
    },
    {
      "cell_type": "code",
      "metadata": {
        "colab": {
          "base_uri": "https://localhost:8080/",
          "height": 513
        },
        "id": "NhjKarXYSQ74",
        "outputId": "7283848b-f788-45b4-cb22-bd23ba8733b8"
      },
      "source": [
        "y_train_pred = model.predict(X_train)    \n",
        "y_test_pred = model.predict(X_test)\n",
        "\n",
        "\n",
        "train_fpr, train_tpr, train_thresholds = roc_curve(y_train, y_train_pred)\n",
        "test_fpr, test_tpr, test_thresholds = roc_curve(y_test, y_test_pred)\n",
        "\n",
        "plt.plot(train_fpr, train_tpr, label=\"Train AUC =\"+str(auc(train_fpr, train_tpr)))\n",
        "plt.plot(test_fpr, test_tpr, label=\"Test AUC =\"+str(auc(test_fpr, test_tpr)))\n",
        "plt.legend()\n",
        "plt.xlabel(\"True Positive Rate(TPR)\", fontweight='bold')\n",
        "plt.ylabel(\"False Positive Rate(FPR)\", fontweight='bold')\n",
        "plt.title(\"ROC-AUC\", fontweight='bold')\n",
        "plt.grid()\n",
        "plt.show() "
      ],
      "execution_count": 195,
      "outputs": [
        {
          "output_type": "display_data",
          "data": {
            "image/png": "[encoded data removed]",
            "text/plain": [
              "<Figure size 1080x576 with 1 Axes>"
            ]
          },
          "metadata": {
            "tags": [],
            "needs_background": "light"
          }
        }
      ]
    },
    {
      "cell_type": "code",
      "metadata": {
        "id": "LBm5Vljz2O0w"
      },
      "source": [
        "log_prob=model.predict_proba(X_test)"
      ],
      "execution_count": 196,
      "outputs": []
    },
    {
      "cell_type": "code",
      "metadata": {
        "id": "aFuDv32TvXdi"
      },
      "source": [
        "log=pd.DataFrame()\n",
        "log['ypred']=y_pred_test"
      ],
      "execution_count": 197,
      "outputs": []
    },
    {
      "cell_type": "code",
      "metadata": {
        "colab": {
          "base_uri": "https://localhost:8080/"
        },
        "id": "-FcK8OoEJIQ8",
        "outputId": "657d2371-3283-438e-a666-bc7cefe35b0d"
      },
      "source": [
        "from sklearn.metrics import accuracy_score\n",
        "accuracy_score(y_test, y_pred)"
      ],
      "execution_count": 198,
      "outputs": [
        {
          "output_type": "execute_result",
          "data": {
            "text/plain": [
              "0.8205967794445418"
            ]
          },
          "metadata": {
            "tags": []
          },
          "execution_count": 198
        }
      ]
    },
    {
      "cell_type": "markdown",
      "metadata": {
        "id": "1UUfIBgA1yDV"
      },
      "source": [
        "Naive Bayes\n"
      ]
    },
    {
      "cell_type": "code",
      "metadata": {
        "id": "2dNJDTwfhiDH"
      },
      "source": [
        "from sklearn.naive_bayes import GaussianNB\n",
        "\n",
        "#Create a Gaussian Classifier\n",
        "model = GaussianNB()\n",
        "\n",
        "# Train the model using the training sets\n",
        "model.fit(X_train, y_train)\n",
        "\n",
        "#Predict Output\n",
        "y_pred= model.predict(X_test) # 0:Overcast, 2:Mild\n"
      ],
      "execution_count": 199,
      "outputs": []
    },
    {
      "cell_type": "code",
      "metadata": {
        "colab": {
          "base_uri": "https://localhost:8080/",
          "height": 513
        },
        "id": "XDVV8UnZg8U7",
        "outputId": "37e4d435-f821-422c-bc01-e56d8f740809"
      },
      "source": [
        "y_train_pred = model.predict(X_train)    \n",
        "y_test_pred = model.predict(X_test)\n",
        "\n",
        "\n",
        "train_fpr, train_tpr, train_thresholds = roc_curve(y_train, y_train_pred)\n",
        "test_fpr, test_tpr, test_thresholds = roc_curve(y_test, y_test_pred)\n",
        "\n",
        "plt.plot(train_fpr, train_tpr, label=\"Train AUC =\"+str(auc(train_fpr, train_tpr)))\n",
        "plt.plot(test_fpr, test_tpr, label=\"Test AUC =\"+str(auc(test_fpr, test_tpr)))\n",
        "plt.legend()\n",
        "plt.xlabel(\"True Positive Rate(TPR)\", fontweight='bold')\n",
        "plt.ylabel(\"False Positive Rate(FPR)\", fontweight='bold')\n",
        "plt.title(\"ROC-AUC\", fontweight='bold')\n",
        "plt.grid()\n",
        "plt.show() "
      ],
      "execution_count": 200,
      "outputs": [
        {
          "output_type": "display_data",
          "data": {
            "image/png": "[encoded data removed]",
            "text/plain": [
              "<Figure size 1080x576 with 1 Axes>"
            ]
          },
          "metadata": {
            "tags": [],
            "needs_background": "light"
          }
        }
      ]
    },
    {
      "cell_type": "code",
      "metadata": {
        "id": "ohanj6rKqrh8"
      },
      "source": [
        "y_pred_test=model.predict(testdf)"
      ],
      "execution_count": 201,
      "outputs": []
    },
    {
      "cell_type": "code",
      "metadata": {
        "id": "gFCIaGnWwhC1"
      },
      "source": [
        "naive_prob=model.predict_proba(testdf)[:,1]"
      ],
      "execution_count": 202,
      "outputs": []
    },
    {
      "cell_type": "code",
      "metadata": {
        "colab": {
          "base_uri": "https://localhost:8080/"
        },
        "id": "5z3o-IAjl2Sx",
        "outputId": "57ff8e06-37f8-43b9-b7a7-c8cf5f5ed4e4"
      },
      "source": [
        "naive_prob"
      ],
      "execution_count": 203,
      "outputs": [
        {
          "output_type": "execute_result",
          "data": {
            "text/plain": [
              "array([0.7396302 , 0.16946814, 0.52949365, ..., 0.83433746, 0.04182232,\n",
              "       0.81836938])"
            ]
          },
          "metadata": {
            "tags": []
          },
          "execution_count": 203
        }
      ]
    },
    {
      "cell_type": "code",
      "metadata": {
        "id": "GtqEPPHekR_Z"
      },
      "source": [
        "naive_p=naive_prob.tolist()"
      ],
      "execution_count": 204,
      "outputs": []
    },
    {
      "cell_type": "code",
      "metadata": {
        "id": "9_RkVy5yp9Lu"
      },
      "source": [
        "naive=pd.DataFrame()\n",
        "\n",
        "naive['member_id']=testdf['member_id']\n",
        "naive['loan_status']=naive_p"
      ],
      "execution_count": 205,
      "outputs": []
    },
    {
      "cell_type": "code",
      "metadata": {
        "id": "nbYx13N5krX_"
      },
      "source": [
        "naive.to_csv('sample_submission.csv',index=False)"
      ],
      "execution_count": 206,
      "outputs": []
    },
    {
      "cell_type": "code",
      "metadata": {
        "colab": {
          "base_uri": "https://localhost:8080/",
          "height": 406
        },
        "id": "b_yl3LKNp2Gg",
        "outputId": "ab08fec4-83d7-43c4-e176-400194e72c66"
      },
      "source": [
        "naive"
      ],
      "execution_count": 207,
      "outputs": [
        {
          "output_type": "execute_result",
          "data": {
            "text/html": [
              "<div>\n",
              "<style scoped>\n",
              "    .dataframe tbody tr th:only-of-type {\n",
              "        vertical-align: middle;\n",
              "    }\n",
              "\n",
              "    .dataframe tbody tr th {\n",
              "        vertical-align: top;\n",
              "    }\n",
              "\n",
              "    .dataframe thead th {\n",
              "        text-align: right;\n",
              "    }\n",
              "</style>\n",
              "<table border=\"1\" class=\"dataframe\">\n",
              "  <thead>\n",
              "    <tr style=\"text-align: right;\">\n",
              "      <th></th>\n",
              "      <th>member_id</th>\n",
              "      <th>loan_status</th>\n",
              "    </tr>\n",
              "  </thead>\n",
              "  <tbody>\n",
              "    <tr>\n",
              "      <th>0</th>\n",
              "      <td>11937648</td>\n",
              "      <td>0.739630</td>\n",
              "    </tr>\n",
              "    <tr>\n",
              "      <th>1</th>\n",
              "      <td>38983318</td>\n",
              "      <td>0.169468</td>\n",
              "    </tr>\n",
              "    <tr>\n",
              "      <th>2</th>\n",
              "      <td>27999917</td>\n",
              "      <td>0.529494</td>\n",
              "    </tr>\n",
              "    <tr>\n",
              "      <th>3</th>\n",
              "      <td>61514932</td>\n",
              "      <td>0.005387</td>\n",
              "    </tr>\n",
              "    <tr>\n",
              "      <th>4</th>\n",
              "      <td>59622821</td>\n",
              "      <td>0.032053</td>\n",
              "    </tr>\n",
              "    <tr>\n",
              "      <th>...</th>\n",
              "      <td>...</td>\n",
              "      <td>...</td>\n",
              "    </tr>\n",
              "    <tr>\n",
              "      <th>354946</th>\n",
              "      <td>19145105</td>\n",
              "      <td>0.640318</td>\n",
              "    </tr>\n",
              "    <tr>\n",
              "      <th>354947</th>\n",
              "      <td>46304777</td>\n",
              "      <td>0.003597</td>\n",
              "    </tr>\n",
              "    <tr>\n",
              "      <th>354948</th>\n",
              "      <td>903745</td>\n",
              "      <td>0.834337</td>\n",
              "    </tr>\n",
              "    <tr>\n",
              "      <th>354949</th>\n",
              "      <td>53032475</td>\n",
              "      <td>0.041822</td>\n",
              "    </tr>\n",
              "    <tr>\n",
              "      <th>354950</th>\n",
              "      <td>994245</td>\n",
              "      <td>0.818369</td>\n",
              "    </tr>\n",
              "  </tbody>\n",
              "</table>\n",
              "<p>354938 rows × 2 columns</p>\n",
              "</div>"
            ],
            "text/plain": [
              "        member_id  loan_status\n",
              "0        11937648     0.739630\n",
              "1        38983318     0.169468\n",
              "2        27999917     0.529494\n",
              "3        61514932     0.005387\n",
              "4        59622821     0.032053\n",
              "...           ...          ...\n",
              "354946   19145105     0.640318\n",
              "354947   46304777     0.003597\n",
              "354948     903745     0.834337\n",
              "354949   53032475     0.041822\n",
              "354950     994245     0.818369\n",
              "\n",
              "[354938 rows x 2 columns]"
            ]
          },
          "metadata": {
            "tags": []
          },
          "execution_count": 207
        }
      ]
    },
    {
      "cell_type": "code",
      "metadata": {
        "colab": {
          "base_uri": "https://localhost:8080/"
        },
        "id": "TPv5GbmtFRYB",
        "outputId": "2aa57fec-defb-43be-dcb7-5fca9c13b2ef"
      },
      "source": [
        "accuracy_score(y_test, y_pred)"
      ],
      "execution_count": 208,
      "outputs": [
        {
          "output_type": "execute_result",
          "data": {
            "text/plain": [
              "0.7462936064711627"
            ]
          },
          "metadata": {
            "tags": []
          },
          "execution_count": 208
        }
      ]
    },
    {
      "cell_type": "code",
      "metadata": {
        "id": "WzepJr1kwW-0"
      },
      "source": [
        "y_pred_test=model.predict(testdf)"
      ],
      "execution_count": 209,
      "outputs": []
    },
    {
      "cell_type": "code",
      "metadata": {
        "colab": {
          "base_uri": "https://localhost:8080/"
        },
        "id": "69Tz39eYiBur",
        "outputId": "37f8d4c4-5c71-404a-f407-796ab81e7547"
      },
      "source": [
        "from sklearn import metrics\n",
        "\n",
        "# Model Accuracy, how often is the classifier correct?\n",
        "print(\"Accuracy:\",metrics.accuracy_score(y_test, y_pred))"
      ],
      "execution_count": 210,
      "outputs": [
        {
          "output_type": "stream",
          "text": [
            "Accuracy: 0.7462936064711627\n"
          ],
          "name": "stdout"
        }
      ]
    },
    {
      "cell_type": "code",
      "metadata": {
        "id": "vGZn7hLSiSNp"
      },
      "source": [
        ""
      ],
      "execution_count": 210,
      "outputs": []
    },
    {
      "cell_type": "code",
      "metadata": {
        "id": "VsXIGY69wGYC"
      },
      "source": [
        ""
      ],
      "execution_count": 210,
      "outputs": []
    }
  ]
}